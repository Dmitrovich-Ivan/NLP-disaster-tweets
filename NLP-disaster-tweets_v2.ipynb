{
  "nbformat": 4,
  "nbformat_minor": 0,
  "metadata": {
    "colab": {
      "provenance": [],
      "collapsed_sections": [
        "kNlEaZfZi4xi"
      ]
    },
    "kernelspec": {
      "name": "python3",
      "display_name": "Python 3"
    },
    "language_info": {
      "name": "python"
    }
  },
  "cells": [
    {
      "cell_type": "code",
      "execution_count": 236,
      "metadata": {
        "id": "1OKIW_CLLCuz"
      },
      "outputs": [],
      "source": []
    },
    {
      "cell_type": "markdown",
      "source": [
        "## 0. Loading the libraries and data"
      ],
      "metadata": {
        "id": "v1_OOri4iy1l"
      }
    },
    {
      "cell_type": "code",
      "source": [
        "import pandas as pd\n",
        "import numpy as np\n",
        "from matplotlib import pyplot as plt\n",
        "import seaborn as sns\n",
        "\n",
        "from sklearn.preprocessing import LabelEncoder, OneHotEncoder\n",
        "from sklearn.impute import SimpleImputer\n",
        "from sklearn.pipeline import make_pipeline\n",
        "from sklearn.pipeline import Pipeline\n",
        "from sklearn.compose import ColumnTransformer\n",
        "\n",
        "from sklearn.metrics import f1_score, roc_auc_score, classification_report, accuracy_score\n",
        "from sklearn.feature_extraction.text import TfidfVectorizer\n",
        "\n",
        "from sklearn.dummy import DummyClassifier\n",
        "from sklearn.linear_model import LogisticRegression\n",
        "from sklearn.model_selection import train_test_split, GridSearchCV, RandomizedSearchCV\n",
        "from scipy.stats import uniform, randint, rv_discrete, rv_continuous\n",
        "from sklearn.decomposition import TruncatedSVD\n",
        "\n",
        "import spacy\n",
        "nlp = spacy.load('en_core_web_sm')\n",
        "\n",
        "import nltk\n",
        "nltk.download('wordnet')\n",
        "nltk.download('stopwords')\n",
        "from nltk.stem import WordNetLemmatizer as wnl\n",
        "from nltk.corpus import stopwords"
      ],
      "metadata": {
        "id": "k_sqrR8Zix4Y",
        "colab": {
          "base_uri": "https://localhost:8080/"
        },
        "outputId": "35a3b573-7139-4325-cd25-bccdfe06e7c6"
      },
      "execution_count": 237,
      "outputs": [
        {
          "output_type": "stream",
          "name": "stderr",
          "text": [
            "[nltk_data] Downloading package wordnet to /root/nltk_data...\n",
            "[nltk_data]   Package wordnet is already up-to-date!\n",
            "[nltk_data] Downloading package stopwords to /root/nltk_data...\n",
            "[nltk_data]   Package stopwords is already up-to-date!\n"
          ]
        }
      ]
    },
    {
      "cell_type": "code",
      "source": [
        "#!pip install gensim"
      ],
      "metadata": {
        "id": "-n-akytrbJNX"
      },
      "execution_count": 238,
      "outputs": []
    },
    {
      "cell_type": "code",
      "source": [
        "from gensim.models import Word2Vec, FastText\n",
        "from gensim.scripts.glove2word2vec import glove2word2vec\n",
        "from gensim.models import KeyedVectors"
      ],
      "metadata": {
        "id": "WurSwafebJ09"
      },
      "execution_count": 368,
      "outputs": []
    },
    {
      "cell_type": "code",
      "source": [
        "train_url = 'https://raw.githubusercontent.com/Dmitrovich-Ivan/datasets/refs/heads/main/disaster_train.csv'\n",
        "test_url = 'https://raw.githubusercontent.com/Dmitrovich-Ivan/datasets/refs/heads/main/disaster_test.csv'\n",
        "sample_url = 'https://raw.githubusercontent.com/Dmitrovich-Ivan/datasets/refs/heads/main/disaster_sample_submission.csv'\n",
        "\n",
        "train_df = pd.read_csv(train_url, index_col='id')\n",
        "test_df = pd.read_csv(test_url, index_col='id')\n",
        "sample_sub = pd.read_csv(sample_url, index_col='id')"
      ],
      "metadata": {
        "id": "9Rexw7Vk_gde"
      },
      "execution_count": 240,
      "outputs": []
    },
    {
      "cell_type": "code",
      "source": [],
      "metadata": {
        "id": "R9L7TeDFi5n-"
      },
      "execution_count": 240,
      "outputs": []
    },
    {
      "cell_type": "markdown",
      "source": [
        "## 1. Exploratory data analysis"
      ],
      "metadata": {
        "id": "kNlEaZfZi4xi"
      }
    },
    {
      "cell_type": "code",
      "source": [
        "train_df.head()"
      ],
      "metadata": {
        "id": "niF5rgaaLDaz",
        "colab": {
          "base_uri": "https://localhost:8080/",
          "height": 639
        },
        "outputId": "c5a9328f-cf54-46fc-f04a-c952a68c40f4"
      },
      "execution_count": 241,
      "outputs": [
        {
          "output_type": "execute_result",
          "data": {
            "text/plain": [
              "   keyword location                                               text  target\n",
              "id                                                                            \n",
              "1      NaN      NaN  Our Deeds are the Reason of this #earthquake M...       1\n",
              "4      NaN      NaN             Forest fire near La Ronge Sask. Canada       1\n",
              "5      NaN      NaN  All residents asked to 'shelter in place' are ...       1\n",
              "6      NaN      NaN  13,000 people receive #wildfires evacuation or...       1\n",
              "7      NaN      NaN  Just got sent this photo from Ruby #Alaska as ...       1"
            ],
            "text/html": [
              "\n",
              "  <div id=\"df-f89d5fc9-806b-4dc9-8279-fc98d078e1c9\" class=\"colab-df-container\">\n",
              "    <div>\n",
              "<style scoped>\n",
              "    .dataframe tbody tr th:only-of-type {\n",
              "        vertical-align: middle;\n",
              "    }\n",
              "\n",
              "    .dataframe tbody tr th {\n",
              "        vertical-align: top;\n",
              "    }\n",
              "\n",
              "    .dataframe thead th {\n",
              "        text-align: right;\n",
              "    }\n",
              "</style>\n",
              "<table border=\"1\" class=\"dataframe\">\n",
              "  <thead>\n",
              "    <tr style=\"text-align: right;\">\n",
              "      <th></th>\n",
              "      <th>keyword</th>\n",
              "      <th>location</th>\n",
              "      <th>text</th>\n",
              "      <th>target</th>\n",
              "    </tr>\n",
              "    <tr>\n",
              "      <th>id</th>\n",
              "      <th></th>\n",
              "      <th></th>\n",
              "      <th></th>\n",
              "      <th></th>\n",
              "    </tr>\n",
              "  </thead>\n",
              "  <tbody>\n",
              "    <tr>\n",
              "      <th>1</th>\n",
              "      <td>NaN</td>\n",
              "      <td>NaN</td>\n",
              "      <td>Our Deeds are the Reason of this #earthquake M...</td>\n",
              "      <td>1</td>\n",
              "    </tr>\n",
              "    <tr>\n",
              "      <th>4</th>\n",
              "      <td>NaN</td>\n",
              "      <td>NaN</td>\n",
              "      <td>Forest fire near La Ronge Sask. Canada</td>\n",
              "      <td>1</td>\n",
              "    </tr>\n",
              "    <tr>\n",
              "      <th>5</th>\n",
              "      <td>NaN</td>\n",
              "      <td>NaN</td>\n",
              "      <td>All residents asked to 'shelter in place' are ...</td>\n",
              "      <td>1</td>\n",
              "    </tr>\n",
              "    <tr>\n",
              "      <th>6</th>\n",
              "      <td>NaN</td>\n",
              "      <td>NaN</td>\n",
              "      <td>13,000 people receive #wildfires evacuation or...</td>\n",
              "      <td>1</td>\n",
              "    </tr>\n",
              "    <tr>\n",
              "      <th>7</th>\n",
              "      <td>NaN</td>\n",
              "      <td>NaN</td>\n",
              "      <td>Just got sent this photo from Ruby #Alaska as ...</td>\n",
              "      <td>1</td>\n",
              "    </tr>\n",
              "  </tbody>\n",
              "</table>\n",
              "</div>\n",
              "    <div class=\"colab-df-buttons\">\n",
              "      \n",
              "  <div class=\"colab-df-container\">\n",
              "    <button class=\"colab-df-convert\" onclick=\"convertToInteractive('df-f89d5fc9-806b-4dc9-8279-fc98d078e1c9')\"\n",
              "            title=\"Convert this dataframe to an interactive table.\"\n",
              "            style=\"display:none;\">\n",
              "      \n",
              "  <svg xmlns=\"http://www.w3.org/2000/svg\" height=\"24px\" viewBox=\"0 -960 960 960\">\n",
              "    <path d=\"M120-120v-720h720v720H120Zm60-500h600v-160H180v160Zm220 220h160v-160H400v160Zm0 220h160v-160H400v160ZM180-400h160v-160H180v160Zm440 0h160v-160H620v160ZM180-180h160v-160H180v160Zm440 0h160v-160H620v160Z\"/>\n",
              "  </svg>\n",
              "    </button>\n",
              "    \n",
              "  <style>\n",
              "    .colab-df-container {\n",
              "      display:flex;\n",
              "      gap: 12px;\n",
              "    }\n",
              "\n",
              "    .colab-df-convert {\n",
              "      background-color: #E8F0FE;\n",
              "      border: none;\n",
              "      border-radius: 50%;\n",
              "      cursor: pointer;\n",
              "      display: none;\n",
              "      fill: #1967D2;\n",
              "      height: 32px;\n",
              "      padding: 0 0 0 0;\n",
              "      width: 32px;\n",
              "    }\n",
              "\n",
              "    .colab-df-convert:hover {\n",
              "      background-color: #E2EBFA;\n",
              "      box-shadow: 0px 1px 2px rgba(60, 64, 67, 0.3), 0px 1px 3px 1px rgba(60, 64, 67, 0.15);\n",
              "      fill: #174EA6;\n",
              "    }\n",
              "\n",
              "    .colab-df-buttons div {\n",
              "      margin-bottom: 4px;\n",
              "    }\n",
              "\n",
              "    [theme=dark] .colab-df-convert {\n",
              "      background-color: #3B4455;\n",
              "      fill: #D2E3FC;\n",
              "    }\n",
              "\n",
              "    [theme=dark] .colab-df-convert:hover {\n",
              "      background-color: #434B5C;\n",
              "      box-shadow: 0px 1px 3px 1px rgba(0, 0, 0, 0.15);\n",
              "      filter: drop-shadow(0px 1px 2px rgba(0, 0, 0, 0.3));\n",
              "      fill: #FFFFFF;\n",
              "    }\n",
              "  </style>\n",
              "\n",
              "    <script>\n",
              "      const buttonEl =\n",
              "        document.querySelector('#df-f89d5fc9-806b-4dc9-8279-fc98d078e1c9 button.colab-df-convert');\n",
              "      buttonEl.style.display =\n",
              "        google.colab.kernel.accessAllowed ? 'block' : 'none';\n",
              "\n",
              "      async function convertToInteractive(key) {\n",
              "        const element = document.querySelector('#df-f89d5fc9-806b-4dc9-8279-fc98d078e1c9');\n",
              "        const dataTable =\n",
              "          await google.colab.kernel.invokeFunction('convertToInteractive',\n",
              "                                                    [key], {});\n",
              "        if (!dataTable) return;\n",
              "\n",
              "        const docLinkHtml = 'Like what you see? Visit the ' +\n",
              "          '<a target=\"_blank\" href=https://colab.research.google.com/notebooks/data_table.ipynb>data table notebook</a>'\n",
              "          + ' to learn more about interactive tables.';\n",
              "        element.innerHTML = '';\n",
              "        dataTable['output_type'] = 'display_data';\n",
              "        await google.colab.output.renderOutput(dataTable, element);\n",
              "        const docLink = document.createElement('div');\n",
              "        docLink.innerHTML = docLinkHtml;\n",
              "        element.appendChild(docLink);\n",
              "      }\n",
              "    </script>\n",
              "  </div>\n",
              "  \n",
              "    </div>\n",
              "  </div>\n",
              "  "
            ],
            "application/vnd.google.colaboratory.intrinsic+json": {
              "type": "dataframe",
              "variable_name": "train_df",
              "summary": "{\n  \"name\": \"train_df\",\n  \"rows\": 7613,\n  \"fields\": [\n    {\n      \"column\": \"id\",\n      \"properties\": {\n        \"dtype\": \"number\",\n        \"std\": 3137,\n        \"min\": 1,\n        \"max\": 10873,\n        \"num_unique_values\": 7613,\n        \"samples\": [\n          3796,\n          3185,\n          7769\n        ],\n        \"semantic_type\": \"\",\n        \"description\": \"\"\n      }\n    },\n    {\n      \"column\": \"keyword\",\n      \"properties\": {\n        \"dtype\": \"category\",\n        \"num_unique_values\": 221,\n        \"samples\": [\n          \"injury\",\n          \"nuclear%20reactor\",\n          \"engulfed\"\n        ],\n        \"semantic_type\": \"\",\n        \"description\": \"\"\n      }\n    },\n    {\n      \"column\": \"location\",\n      \"properties\": {\n        \"dtype\": \"category\",\n        \"num_unique_values\": 3341,\n        \"samples\": [\n          \"Oklahoma\",\n          \"Starling City\",\n          \"Trinidad and Tobago\"\n        ],\n        \"semantic_type\": \"\",\n        \"description\": \"\"\n      }\n    },\n    {\n      \"column\": \"text\",\n      \"properties\": {\n        \"dtype\": \"string\",\n        \"num_unique_values\": 7503,\n        \"samples\": [\n          \"Three Homes Demolished in Unrecognized Arab Village - International Middle East Media Center http://t.co/ik8m4Yi9T4\",\n          \"Reid Lake fire prompts campground evacuation order http://t.co/jBODKM6rBU\",\n          \"FAAN orders evacuation of abandoned aircraft at MMA http://t.co/dEvYbnVXGQ via @todayng\"\n        ],\n        \"semantic_type\": \"\",\n        \"description\": \"\"\n      }\n    },\n    {\n      \"column\": \"target\",\n      \"properties\": {\n        \"dtype\": \"number\",\n        \"std\": 0,\n        \"min\": 0,\n        \"max\": 1,\n        \"num_unique_values\": 2,\n        \"samples\": [\n          0,\n          1\n        ],\n        \"semantic_type\": \"\",\n        \"description\": \"\"\n      }\n    }\n  ]\n}"
            }
          },
          "metadata": {},
          "execution_count": 241
        }
      ]
    },
    {
      "cell_type": "code",
      "source": [
        "train_df.info()"
      ],
      "metadata": {
        "id": "RPd1s_gqLDhU",
        "colab": {
          "base_uri": "https://localhost:8080/"
        },
        "outputId": "8eab7537-c6ad-4c6b-8faf-43c46d7feb7c"
      },
      "execution_count": 242,
      "outputs": [
        {
          "output_type": "stream",
          "name": "stdout",
          "text": [
            "<class 'pandas.core.frame.DataFrame'>\n",
            "Index: 7613 entries, 1 to 10873\n",
            "Data columns (total 4 columns):\n",
            " #   Column    Non-Null Count  Dtype \n",
            "---  ------    --------------  ----- \n",
            " 0   keyword   7552 non-null   object\n",
            " 1   location  5080 non-null   object\n",
            " 2   text      7613 non-null   object\n",
            " 3   target    7613 non-null   int64 \n",
            "dtypes: int64(1), object(3)\n",
            "memory usage: 297.4+ KB\n"
          ]
        }
      ]
    },
    {
      "cell_type": "markdown",
      "source": [
        "- There are missing values in keyword and location columns\n",
        "- The target class is slightly imbalanced"
      ],
      "metadata": {
        "id": "oshmPUMouuwq"
      }
    },
    {
      "cell_type": "code",
      "source": [
        "train_df['target'].value_counts(normalize=True)"
      ],
      "metadata": {
        "colab": {
          "base_uri": "https://localhost:8080/",
          "height": 215
        },
        "id": "wcNBhrd-8MNE",
        "outputId": "bce86d05-43fe-4dc7-8808-c1b3865f06d9"
      },
      "execution_count": 243,
      "outputs": [
        {
          "output_type": "execute_result",
          "data": {
            "text/plain": [
              "target\n",
              "0    0.57034\n",
              "1    0.42966\n",
              "Name: proportion, dtype: float64"
            ],
            "text/html": [
              "<div>\n",
              "<style scoped>\n",
              "    .dataframe tbody tr th:only-of-type {\n",
              "        vertical-align: middle;\n",
              "    }\n",
              "\n",
              "    .dataframe tbody tr th {\n",
              "        vertical-align: top;\n",
              "    }\n",
              "\n",
              "    .dataframe thead th {\n",
              "        text-align: right;\n",
              "    }\n",
              "</style>\n",
              "<table border=\"1\" class=\"dataframe\">\n",
              "  <thead>\n",
              "    <tr style=\"text-align: right;\">\n",
              "      <th></th>\n",
              "      <th>proportion</th>\n",
              "    </tr>\n",
              "    <tr>\n",
              "      <th>target</th>\n",
              "      <th></th>\n",
              "    </tr>\n",
              "  </thead>\n",
              "  <tbody>\n",
              "    <tr>\n",
              "      <th>0</th>\n",
              "      <td>0.57034</td>\n",
              "    </tr>\n",
              "    <tr>\n",
              "      <th>1</th>\n",
              "      <td>0.42966</td>\n",
              "    </tr>\n",
              "  </tbody>\n",
              "</table>\n",
              "</div><br><label><b>dtype:</b> float64</label>"
            ]
          },
          "metadata": {},
          "execution_count": 243
        }
      ]
    },
    {
      "cell_type": "code",
      "source": [
        "print('Unique keywords count:', train_df['keyword'].nunique())\n",
        "print('Unique locations count:', train_df['location'].nunique())"
      ],
      "metadata": {
        "id": "c4O7xnFP8MRw",
        "colab": {
          "base_uri": "https://localhost:8080/"
        },
        "outputId": "7c849d1b-b698-4d86-d8e6-dee2e97a4118"
      },
      "execution_count": 244,
      "outputs": [
        {
          "output_type": "stream",
          "name": "stdout",
          "text": [
            "Unique keywords count: 221\n",
            "Unique locations count: 3341\n"
          ]
        }
      ]
    },
    {
      "cell_type": "markdown",
      "source": [
        "- By the distribution of the target class for tweets with and without hashtags it is visible that tweets that contain hashtags are slighlty more likely to be about a real disaster\n",
        "- Additionally, tweets without links that start with http are also more likely to be \"True\""
      ],
      "metadata": {
        "id": "bGK2lg72u7Om"
      }
    },
    {
      "cell_type": "code",
      "source": [
        "print(train_df[train_df['text'].str.contains('#')]['target'].value_counts(normalize=True))\n",
        "print(train_df[~train_df['text'].str.contains('#')]['target'].value_counts(normalize=True))"
      ],
      "metadata": {
        "colab": {
          "base_uri": "https://localhost:8080/"
        },
        "id": "x37CZQAXijrQ",
        "outputId": "eec513dd-b041-46f4-dc1a-af9d797fbf15"
      },
      "execution_count": 245,
      "outputs": [
        {
          "output_type": "stream",
          "name": "stdout",
          "text": [
            "target\n",
            "0    0.503123\n",
            "1    0.496877\n",
            "Name: proportion, dtype: float64\n",
            "target\n",
            "0    0.590567\n",
            "1    0.409433\n",
            "Name: proportion, dtype: float64\n"
          ]
        }
      ]
    },
    {
      "cell_type": "code",
      "source": [
        "print(train_df[train_df['text'].str.contains('http')]['target'].value_counts(normalize=True))\n",
        "print(train_df[~train_df['text'].str.contains('http')]['target'].value_counts(normalize=True))"
      ],
      "metadata": {
        "colab": {
          "base_uri": "https://localhost:8080/"
        },
        "id": "N9SSPs_miHDc",
        "outputId": "5c8de802-36c9-4b2c-8ea4-ca6a35768026"
      },
      "execution_count": 246,
      "outputs": [
        {
          "output_type": "stream",
          "name": "stdout",
          "text": [
            "target\n",
            "1    0.546965\n",
            "0    0.453035\n",
            "Name: proportion, dtype: float64\n",
            "target\n",
            "0    0.698243\n",
            "1    0.301757\n",
            "Name: proportion, dtype: float64\n"
          ]
        }
      ]
    },
    {
      "cell_type": "markdown",
      "source": [
        "- Top 5 and bottom 5 keywords by their \"likelihood\" of indicating a real disaster tweet are displayed below. It is obvious that this feature might be very useful for predicting real/fake disaster tweet"
      ],
      "metadata": {
        "id": "5TD-Fkb17Qwh"
      }
    },
    {
      "cell_type": "code",
      "source": [
        "train_df.groupby([\"keyword\"])['target'].agg([\"mean\", \"count\"]).sort_values(by=\"count\", ascending=False).head(5)"
      ],
      "metadata": {
        "colab": {
          "base_uri": "https://localhost:8080/",
          "height": 257
        },
        "id": "TtIU3QwCnAT6",
        "outputId": "7eb03047-96a8-4072-cbb5-1d0dbd468a52"
      },
      "execution_count": 247,
      "outputs": [
        {
          "output_type": "execute_result",
          "data": {
            "text/plain": [
              "                mean  count\n",
              "keyword                    \n",
              "fatalities  0.577778     45\n",
              "deluge      0.142857     42\n",
              "armageddon  0.119048     42\n",
              "sinking     0.195122     41\n",
              "damage      0.463415     41"
            ],
            "text/html": [
              "\n",
              "  <div id=\"df-fa91bd4a-f912-47ce-945e-a1531a0bdd51\" class=\"colab-df-container\">\n",
              "    <div>\n",
              "<style scoped>\n",
              "    .dataframe tbody tr th:only-of-type {\n",
              "        vertical-align: middle;\n",
              "    }\n",
              "\n",
              "    .dataframe tbody tr th {\n",
              "        vertical-align: top;\n",
              "    }\n",
              "\n",
              "    .dataframe thead th {\n",
              "        text-align: right;\n",
              "    }\n",
              "</style>\n",
              "<table border=\"1\" class=\"dataframe\">\n",
              "  <thead>\n",
              "    <tr style=\"text-align: right;\">\n",
              "      <th></th>\n",
              "      <th>mean</th>\n",
              "      <th>count</th>\n",
              "    </tr>\n",
              "    <tr>\n",
              "      <th>keyword</th>\n",
              "      <th></th>\n",
              "      <th></th>\n",
              "    </tr>\n",
              "  </thead>\n",
              "  <tbody>\n",
              "    <tr>\n",
              "      <th>fatalities</th>\n",
              "      <td>0.577778</td>\n",
              "      <td>45</td>\n",
              "    </tr>\n",
              "    <tr>\n",
              "      <th>deluge</th>\n",
              "      <td>0.142857</td>\n",
              "      <td>42</td>\n",
              "    </tr>\n",
              "    <tr>\n",
              "      <th>armageddon</th>\n",
              "      <td>0.119048</td>\n",
              "      <td>42</td>\n",
              "    </tr>\n",
              "    <tr>\n",
              "      <th>sinking</th>\n",
              "      <td>0.195122</td>\n",
              "      <td>41</td>\n",
              "    </tr>\n",
              "    <tr>\n",
              "      <th>damage</th>\n",
              "      <td>0.463415</td>\n",
              "      <td>41</td>\n",
              "    </tr>\n",
              "  </tbody>\n",
              "</table>\n",
              "</div>\n",
              "    <div class=\"colab-df-buttons\">\n",
              "      \n",
              "  <div class=\"colab-df-container\">\n",
              "    <button class=\"colab-df-convert\" onclick=\"convertToInteractive('df-fa91bd4a-f912-47ce-945e-a1531a0bdd51')\"\n",
              "            title=\"Convert this dataframe to an interactive table.\"\n",
              "            style=\"display:none;\">\n",
              "      \n",
              "  <svg xmlns=\"http://www.w3.org/2000/svg\" height=\"24px\" viewBox=\"0 -960 960 960\">\n",
              "    <path d=\"M120-120v-720h720v720H120Zm60-500h600v-160H180v160Zm220 220h160v-160H400v160Zm0 220h160v-160H400v160ZM180-400h160v-160H180v160Zm440 0h160v-160H620v160ZM180-180h160v-160H180v160Zm440 0h160v-160H620v160Z\"/>\n",
              "  </svg>\n",
              "    </button>\n",
              "    \n",
              "  <style>\n",
              "    .colab-df-container {\n",
              "      display:flex;\n",
              "      gap: 12px;\n",
              "    }\n",
              "\n",
              "    .colab-df-convert {\n",
              "      background-color: #E8F0FE;\n",
              "      border: none;\n",
              "      border-radius: 50%;\n",
              "      cursor: pointer;\n",
              "      display: none;\n",
              "      fill: #1967D2;\n",
              "      height: 32px;\n",
              "      padding: 0 0 0 0;\n",
              "      width: 32px;\n",
              "    }\n",
              "\n",
              "    .colab-df-convert:hover {\n",
              "      background-color: #E2EBFA;\n",
              "      box-shadow: 0px 1px 2px rgba(60, 64, 67, 0.3), 0px 1px 3px 1px rgba(60, 64, 67, 0.15);\n",
              "      fill: #174EA6;\n",
              "    }\n",
              "\n",
              "    .colab-df-buttons div {\n",
              "      margin-bottom: 4px;\n",
              "    }\n",
              "\n",
              "    [theme=dark] .colab-df-convert {\n",
              "      background-color: #3B4455;\n",
              "      fill: #D2E3FC;\n",
              "    }\n",
              "\n",
              "    [theme=dark] .colab-df-convert:hover {\n",
              "      background-color: #434B5C;\n",
              "      box-shadow: 0px 1px 3px 1px rgba(0, 0, 0, 0.15);\n",
              "      filter: drop-shadow(0px 1px 2px rgba(0, 0, 0, 0.3));\n",
              "      fill: #FFFFFF;\n",
              "    }\n",
              "  </style>\n",
              "\n",
              "    <script>\n",
              "      const buttonEl =\n",
              "        document.querySelector('#df-fa91bd4a-f912-47ce-945e-a1531a0bdd51 button.colab-df-convert');\n",
              "      buttonEl.style.display =\n",
              "        google.colab.kernel.accessAllowed ? 'block' : 'none';\n",
              "\n",
              "      async function convertToInteractive(key) {\n",
              "        const element = document.querySelector('#df-fa91bd4a-f912-47ce-945e-a1531a0bdd51');\n",
              "        const dataTable =\n",
              "          await google.colab.kernel.invokeFunction('convertToInteractive',\n",
              "                                                    [key], {});\n",
              "        if (!dataTable) return;\n",
              "\n",
              "        const docLinkHtml = 'Like what you see? Visit the ' +\n",
              "          '<a target=\"_blank\" href=https://colab.research.google.com/notebooks/data_table.ipynb>data table notebook</a>'\n",
              "          + ' to learn more about interactive tables.';\n",
              "        element.innerHTML = '';\n",
              "        dataTable['output_type'] = 'display_data';\n",
              "        await google.colab.output.renderOutput(dataTable, element);\n",
              "        const docLink = document.createElement('div');\n",
              "        docLink.innerHTML = docLinkHtml;\n",
              "        element.appendChild(docLink);\n",
              "      }\n",
              "    </script>\n",
              "  </div>\n",
              "  \n",
              "    </div>\n",
              "  </div>\n",
              "  "
            ],
            "application/vnd.google.colaboratory.intrinsic+json": {
              "type": "dataframe",
              "summary": "{\n  \"name\": \"train_df\",\n  \"rows\": 5,\n  \"fields\": [\n    {\n      \"column\": \"keyword\",\n      \"properties\": {\n        \"dtype\": \"string\",\n        \"num_unique_values\": 5,\n        \"samples\": [\n          \"deluge\",\n          \"damage\",\n          \"armageddon\"\n        ],\n        \"semantic_type\": \"\",\n        \"description\": \"\"\n      }\n    },\n    {\n      \"column\": \"mean\",\n      \"properties\": {\n        \"dtype\": \"number\",\n        \"std\": 0.20754592805966035,\n        \"min\": 0.11904761904761904,\n        \"max\": 0.5777777777777777,\n        \"num_unique_values\": 5,\n        \"samples\": [\n          0.14285714285714285,\n          0.4634146341463415,\n          0.11904761904761904\n        ],\n        \"semantic_type\": \"\",\n        \"description\": \"\"\n      }\n    },\n    {\n      \"column\": \"count\",\n      \"properties\": {\n        \"dtype\": \"number\",\n        \"std\": 1,\n        \"min\": 41,\n        \"max\": 45,\n        \"num_unique_values\": 3,\n        \"samples\": [\n          45,\n          42,\n          41\n        ],\n        \"semantic_type\": \"\",\n        \"description\": \"\"\n      }\n    }\n  ]\n}"
            }
          },
          "metadata": {},
          "execution_count": 247
        }
      ]
    },
    {
      "cell_type": "code",
      "source": [
        "train_df.groupby([\"keyword\"])['target'].agg([\"mean\", \"count\"]).sort_values(by=\"mean\", ascending=False).head(5)"
      ],
      "metadata": {
        "colab": {
          "base_uri": "https://localhost:8080/",
          "height": 257
        },
        "id": "IGXeREL088f9",
        "outputId": "e534e1e1-38bd-491e-e0b2-a498934c2065"
      },
      "execution_count": 248,
      "outputs": [
        {
          "output_type": "execute_result",
          "data": {
            "text/plain": [
              "                 mean  count\n",
              "keyword                     \n",
              "debris       1.000000     37\n",
              "wreckage     1.000000     39\n",
              "derailment   1.000000     39\n",
              "outbreak     0.975000     40\n",
              "oil%20spill  0.973684     38"
            ],
            "text/html": [
              "\n",
              "  <div id=\"df-2480a21d-946f-448f-b1a3-75eef91b48f8\" class=\"colab-df-container\">\n",
              "    <div>\n",
              "<style scoped>\n",
              "    .dataframe tbody tr th:only-of-type {\n",
              "        vertical-align: middle;\n",
              "    }\n",
              "\n",
              "    .dataframe tbody tr th {\n",
              "        vertical-align: top;\n",
              "    }\n",
              "\n",
              "    .dataframe thead th {\n",
              "        text-align: right;\n",
              "    }\n",
              "</style>\n",
              "<table border=\"1\" class=\"dataframe\">\n",
              "  <thead>\n",
              "    <tr style=\"text-align: right;\">\n",
              "      <th></th>\n",
              "      <th>mean</th>\n",
              "      <th>count</th>\n",
              "    </tr>\n",
              "    <tr>\n",
              "      <th>keyword</th>\n",
              "      <th></th>\n",
              "      <th></th>\n",
              "    </tr>\n",
              "  </thead>\n",
              "  <tbody>\n",
              "    <tr>\n",
              "      <th>debris</th>\n",
              "      <td>1.000000</td>\n",
              "      <td>37</td>\n",
              "    </tr>\n",
              "    <tr>\n",
              "      <th>wreckage</th>\n",
              "      <td>1.000000</td>\n",
              "      <td>39</td>\n",
              "    </tr>\n",
              "    <tr>\n",
              "      <th>derailment</th>\n",
              "      <td>1.000000</td>\n",
              "      <td>39</td>\n",
              "    </tr>\n",
              "    <tr>\n",
              "      <th>outbreak</th>\n",
              "      <td>0.975000</td>\n",
              "      <td>40</td>\n",
              "    </tr>\n",
              "    <tr>\n",
              "      <th>oil%20spill</th>\n",
              "      <td>0.973684</td>\n",
              "      <td>38</td>\n",
              "    </tr>\n",
              "  </tbody>\n",
              "</table>\n",
              "</div>\n",
              "    <div class=\"colab-df-buttons\">\n",
              "      \n",
              "  <div class=\"colab-df-container\">\n",
              "    <button class=\"colab-df-convert\" onclick=\"convertToInteractive('df-2480a21d-946f-448f-b1a3-75eef91b48f8')\"\n",
              "            title=\"Convert this dataframe to an interactive table.\"\n",
              "            style=\"display:none;\">\n",
              "      \n",
              "  <svg xmlns=\"http://www.w3.org/2000/svg\" height=\"24px\" viewBox=\"0 -960 960 960\">\n",
              "    <path d=\"M120-120v-720h720v720H120Zm60-500h600v-160H180v160Zm220 220h160v-160H400v160Zm0 220h160v-160H400v160ZM180-400h160v-160H180v160Zm440 0h160v-160H620v160ZM180-180h160v-160H180v160Zm440 0h160v-160H620v160Z\"/>\n",
              "  </svg>\n",
              "    </button>\n",
              "    \n",
              "  <style>\n",
              "    .colab-df-container {\n",
              "      display:flex;\n",
              "      gap: 12px;\n",
              "    }\n",
              "\n",
              "    .colab-df-convert {\n",
              "      background-color: #E8F0FE;\n",
              "      border: none;\n",
              "      border-radius: 50%;\n",
              "      cursor: pointer;\n",
              "      display: none;\n",
              "      fill: #1967D2;\n",
              "      height: 32px;\n",
              "      padding: 0 0 0 0;\n",
              "      width: 32px;\n",
              "    }\n",
              "\n",
              "    .colab-df-convert:hover {\n",
              "      background-color: #E2EBFA;\n",
              "      box-shadow: 0px 1px 2px rgba(60, 64, 67, 0.3), 0px 1px 3px 1px rgba(60, 64, 67, 0.15);\n",
              "      fill: #174EA6;\n",
              "    }\n",
              "\n",
              "    .colab-df-buttons div {\n",
              "      margin-bottom: 4px;\n",
              "    }\n",
              "\n",
              "    [theme=dark] .colab-df-convert {\n",
              "      background-color: #3B4455;\n",
              "      fill: #D2E3FC;\n",
              "    }\n",
              "\n",
              "    [theme=dark] .colab-df-convert:hover {\n",
              "      background-color: #434B5C;\n",
              "      box-shadow: 0px 1px 3px 1px rgba(0, 0, 0, 0.15);\n",
              "      filter: drop-shadow(0px 1px 2px rgba(0, 0, 0, 0.3));\n",
              "      fill: #FFFFFF;\n",
              "    }\n",
              "  </style>\n",
              "\n",
              "    <script>\n",
              "      const buttonEl =\n",
              "        document.querySelector('#df-2480a21d-946f-448f-b1a3-75eef91b48f8 button.colab-df-convert');\n",
              "      buttonEl.style.display =\n",
              "        google.colab.kernel.accessAllowed ? 'block' : 'none';\n",
              "\n",
              "      async function convertToInteractive(key) {\n",
              "        const element = document.querySelector('#df-2480a21d-946f-448f-b1a3-75eef91b48f8');\n",
              "        const dataTable =\n",
              "          await google.colab.kernel.invokeFunction('convertToInteractive',\n",
              "                                                    [key], {});\n",
              "        if (!dataTable) return;\n",
              "\n",
              "        const docLinkHtml = 'Like what you see? Visit the ' +\n",
              "          '<a target=\"_blank\" href=https://colab.research.google.com/notebooks/data_table.ipynb>data table notebook</a>'\n",
              "          + ' to learn more about interactive tables.';\n",
              "        element.innerHTML = '';\n",
              "        dataTable['output_type'] = 'display_data';\n",
              "        await google.colab.output.renderOutput(dataTable, element);\n",
              "        const docLink = document.createElement('div');\n",
              "        docLink.innerHTML = docLinkHtml;\n",
              "        element.appendChild(docLink);\n",
              "      }\n",
              "    </script>\n",
              "  </div>\n",
              "  \n",
              "    </div>\n",
              "  </div>\n",
              "  "
            ],
            "application/vnd.google.colaboratory.intrinsic+json": {
              "type": "dataframe",
              "summary": "{\n  \"name\": \"train_df\",\n  \"rows\": 5,\n  \"fields\": [\n    {\n      \"column\": \"keyword\",\n      \"properties\": {\n        \"dtype\": \"string\",\n        \"num_unique_values\": 5,\n        \"samples\": [\n          \"wreckage\",\n          \"oil%20spill\",\n          \"derailment\"\n        ],\n        \"semantic_type\": \"\",\n        \"description\": \"\"\n      }\n    },\n    {\n      \"column\": \"mean\",\n      \"properties\": {\n        \"dtype\": \"number\",\n        \"std\": 0.014061105270939518,\n        \"min\": 0.9736842105263158,\n        \"max\": 1.0,\n        \"num_unique_values\": 3,\n        \"samples\": [\n          1.0,\n          0.975,\n          0.9736842105263158\n        ],\n        \"semantic_type\": \"\",\n        \"description\": \"\"\n      }\n    },\n    {\n      \"column\": \"count\",\n      \"properties\": {\n        \"dtype\": \"number\",\n        \"std\": 1,\n        \"min\": 37,\n        \"max\": 40,\n        \"num_unique_values\": 4,\n        \"samples\": [\n          39,\n          38,\n          37\n        ],\n        \"semantic_type\": \"\",\n        \"description\": \"\"\n      }\n    }\n  ]\n}"
            }
          },
          "metadata": {},
          "execution_count": 248
        }
      ]
    },
    {
      "cell_type": "code",
      "source": [
        "train_df.groupby([\"keyword\"])['target'].agg([\"mean\", \"count\"]).sort_values(by=\"mean\", ascending=False).tail(5)"
      ],
      "metadata": {
        "colab": {
          "base_uri": "https://localhost:8080/",
          "height": 257
        },
        "id": "r-Ga_fXNiHIZ",
        "outputId": "0b01d72b-3b82-41f8-88e0-adcf2d42d0fd"
      },
      "execution_count": 249,
      "outputs": [
        {
          "output_type": "execute_result",
          "data": {
            "text/plain": [
              "                 mean  count\n",
              "keyword                     \n",
              "body%20bag   0.030303     33\n",
              "blazing      0.029412     34\n",
              "ruin         0.027027     37\n",
              "body%20bags  0.024390     41\n",
              "aftershock   0.000000     34"
            ],
            "text/html": [
              "\n",
              "  <div id=\"df-ff5b729a-5fbe-4260-92c0-c94b70a9606d\" class=\"colab-df-container\">\n",
              "    <div>\n",
              "<style scoped>\n",
              "    .dataframe tbody tr th:only-of-type {\n",
              "        vertical-align: middle;\n",
              "    }\n",
              "\n",
              "    .dataframe tbody tr th {\n",
              "        vertical-align: top;\n",
              "    }\n",
              "\n",
              "    .dataframe thead th {\n",
              "        text-align: right;\n",
              "    }\n",
              "</style>\n",
              "<table border=\"1\" class=\"dataframe\">\n",
              "  <thead>\n",
              "    <tr style=\"text-align: right;\">\n",
              "      <th></th>\n",
              "      <th>mean</th>\n",
              "      <th>count</th>\n",
              "    </tr>\n",
              "    <tr>\n",
              "      <th>keyword</th>\n",
              "      <th></th>\n",
              "      <th></th>\n",
              "    </tr>\n",
              "  </thead>\n",
              "  <tbody>\n",
              "    <tr>\n",
              "      <th>body%20bag</th>\n",
              "      <td>0.030303</td>\n",
              "      <td>33</td>\n",
              "    </tr>\n",
              "    <tr>\n",
              "      <th>blazing</th>\n",
              "      <td>0.029412</td>\n",
              "      <td>34</td>\n",
              "    </tr>\n",
              "    <tr>\n",
              "      <th>ruin</th>\n",
              "      <td>0.027027</td>\n",
              "      <td>37</td>\n",
              "    </tr>\n",
              "    <tr>\n",
              "      <th>body%20bags</th>\n",
              "      <td>0.024390</td>\n",
              "      <td>41</td>\n",
              "    </tr>\n",
              "    <tr>\n",
              "      <th>aftershock</th>\n",
              "      <td>0.000000</td>\n",
              "      <td>34</td>\n",
              "    </tr>\n",
              "  </tbody>\n",
              "</table>\n",
              "</div>\n",
              "    <div class=\"colab-df-buttons\">\n",
              "      \n",
              "  <div class=\"colab-df-container\">\n",
              "    <button class=\"colab-df-convert\" onclick=\"convertToInteractive('df-ff5b729a-5fbe-4260-92c0-c94b70a9606d')\"\n",
              "            title=\"Convert this dataframe to an interactive table.\"\n",
              "            style=\"display:none;\">\n",
              "      \n",
              "  <svg xmlns=\"http://www.w3.org/2000/svg\" height=\"24px\" viewBox=\"0 -960 960 960\">\n",
              "    <path d=\"M120-120v-720h720v720H120Zm60-500h600v-160H180v160Zm220 220h160v-160H400v160Zm0 220h160v-160H400v160ZM180-400h160v-160H180v160Zm440 0h160v-160H620v160ZM180-180h160v-160H180v160Zm440 0h160v-160H620v160Z\"/>\n",
              "  </svg>\n",
              "    </button>\n",
              "    \n",
              "  <style>\n",
              "    .colab-df-container {\n",
              "      display:flex;\n",
              "      gap: 12px;\n",
              "    }\n",
              "\n",
              "    .colab-df-convert {\n",
              "      background-color: #E8F0FE;\n",
              "      border: none;\n",
              "      border-radius: 50%;\n",
              "      cursor: pointer;\n",
              "      display: none;\n",
              "      fill: #1967D2;\n",
              "      height: 32px;\n",
              "      padding: 0 0 0 0;\n",
              "      width: 32px;\n",
              "    }\n",
              "\n",
              "    .colab-df-convert:hover {\n",
              "      background-color: #E2EBFA;\n",
              "      box-shadow: 0px 1px 2px rgba(60, 64, 67, 0.3), 0px 1px 3px 1px rgba(60, 64, 67, 0.15);\n",
              "      fill: #174EA6;\n",
              "    }\n",
              "\n",
              "    .colab-df-buttons div {\n",
              "      margin-bottom: 4px;\n",
              "    }\n",
              "\n",
              "    [theme=dark] .colab-df-convert {\n",
              "      background-color: #3B4455;\n",
              "      fill: #D2E3FC;\n",
              "    }\n",
              "\n",
              "    [theme=dark] .colab-df-convert:hover {\n",
              "      background-color: #434B5C;\n",
              "      box-shadow: 0px 1px 3px 1px rgba(0, 0, 0, 0.15);\n",
              "      filter: drop-shadow(0px 1px 2px rgba(0, 0, 0, 0.3));\n",
              "      fill: #FFFFFF;\n",
              "    }\n",
              "  </style>\n",
              "\n",
              "    <script>\n",
              "      const buttonEl =\n",
              "        document.querySelector('#df-ff5b729a-5fbe-4260-92c0-c94b70a9606d button.colab-df-convert');\n",
              "      buttonEl.style.display =\n",
              "        google.colab.kernel.accessAllowed ? 'block' : 'none';\n",
              "\n",
              "      async function convertToInteractive(key) {\n",
              "        const element = document.querySelector('#df-ff5b729a-5fbe-4260-92c0-c94b70a9606d');\n",
              "        const dataTable =\n",
              "          await google.colab.kernel.invokeFunction('convertToInteractive',\n",
              "                                                    [key], {});\n",
              "        if (!dataTable) return;\n",
              "\n",
              "        const docLinkHtml = 'Like what you see? Visit the ' +\n",
              "          '<a target=\"_blank\" href=https://colab.research.google.com/notebooks/data_table.ipynb>data table notebook</a>'\n",
              "          + ' to learn more about interactive tables.';\n",
              "        element.innerHTML = '';\n",
              "        dataTable['output_type'] = 'display_data';\n",
              "        await google.colab.output.renderOutput(dataTable, element);\n",
              "        const docLink = document.createElement('div');\n",
              "        docLink.innerHTML = docLinkHtml;\n",
              "        element.appendChild(docLink);\n",
              "      }\n",
              "    </script>\n",
              "  </div>\n",
              "  \n",
              "    </div>\n",
              "  </div>\n",
              "  "
            ],
            "application/vnd.google.colaboratory.intrinsic+json": {
              "type": "dataframe",
              "summary": "{\n  \"name\": \"train_df\",\n  \"rows\": 5,\n  \"fields\": [\n    {\n      \"column\": \"keyword\",\n      \"properties\": {\n        \"dtype\": \"string\",\n        \"num_unique_values\": 5,\n        \"samples\": [\n          \"blazing\",\n          \"aftershock\",\n          \"ruin\"\n        ],\n        \"semantic_type\": \"\",\n        \"description\": \"\"\n      }\n    },\n    {\n      \"column\": \"mean\",\n      \"properties\": {\n        \"dtype\": \"number\",\n        \"std\": 0.012635293034336822,\n        \"min\": 0.0,\n        \"max\": 0.030303030303030304,\n        \"num_unique_values\": 5,\n        \"samples\": [\n          0.029411764705882353,\n          0.0,\n          0.02702702702702703\n        ],\n        \"semantic_type\": \"\",\n        \"description\": \"\"\n      }\n    },\n    {\n      \"column\": \"count\",\n      \"properties\": {\n        \"dtype\": \"number\",\n        \"std\": 3,\n        \"min\": 33,\n        \"max\": 41,\n        \"num_unique_values\": 4,\n        \"samples\": [\n          34,\n          41,\n          33\n        ],\n        \"semantic_type\": \"\",\n        \"description\": \"\"\n      }\n    }\n  ]\n}"
            }
          },
          "metadata": {},
          "execution_count": 249
        }
      ]
    },
    {
      "cell_type": "markdown",
      "source": [
        "- Below are displayed some of the locations, their count and a mean target value for each group"
      ],
      "metadata": {
        "id": "D72qpIlM77gx"
      }
    },
    {
      "cell_type": "code",
      "source": [
        "train_df.groupby([\"location\"])['target'].agg([\"mean\", \"count\"]).sort_values(by=[\"count\", \"mean\"], ascending=False)"
      ],
      "metadata": {
        "colab": {
          "base_uri": "https://localhost:8080/",
          "height": 492
        },
        "id": "-d2grOTn9cEl",
        "outputId": "fbb9131c-a83a-4007-a4b0-1a39d86851c2"
      },
      "execution_count": 250,
      "outputs": [
        {
          "output_type": "execute_result",
          "data": {
            "text/plain": [
              "                                   mean  count\n",
              "location                                      \n",
              "USA                            0.644231    104\n",
              "New York                       0.225352     71\n",
              "United States                  0.540000     50\n",
              "London                         0.355556     45\n",
              "Canada                         0.448276     29\n",
              "...                                 ...    ...\n",
              "ÌøåÀå_T: 40.736324,-73.990062  0.000000      1\n",
              "å_: ?? ÌÑ ? : ?                0.000000      1\n",
              "å_å_Los Mina Cityã¢           0.000000      1\n",
              "å¡å¡Midwest Û¢Û¢             0.000000      1\n",
              "åÊ(?Û¢`?Û¢å«)??              0.000000      1\n",
              "\n",
              "[3341 rows x 2 columns]"
            ],
            "text/html": [
              "\n",
              "  <div id=\"df-85bae94d-45a2-470c-9030-ac60982401b0\" class=\"colab-df-container\">\n",
              "    <div>\n",
              "<style scoped>\n",
              "    .dataframe tbody tr th:only-of-type {\n",
              "        vertical-align: middle;\n",
              "    }\n",
              "\n",
              "    .dataframe tbody tr th {\n",
              "        vertical-align: top;\n",
              "    }\n",
              "\n",
              "    .dataframe thead th {\n",
              "        text-align: right;\n",
              "    }\n",
              "</style>\n",
              "<table border=\"1\" class=\"dataframe\">\n",
              "  <thead>\n",
              "    <tr style=\"text-align: right;\">\n",
              "      <th></th>\n",
              "      <th>mean</th>\n",
              "      <th>count</th>\n",
              "    </tr>\n",
              "    <tr>\n",
              "      <th>location</th>\n",
              "      <th></th>\n",
              "      <th></th>\n",
              "    </tr>\n",
              "  </thead>\n",
              "  <tbody>\n",
              "    <tr>\n",
              "      <th>USA</th>\n",
              "      <td>0.644231</td>\n",
              "      <td>104</td>\n",
              "    </tr>\n",
              "    <tr>\n",
              "      <th>New York</th>\n",
              "      <td>0.225352</td>\n",
              "      <td>71</td>\n",
              "    </tr>\n",
              "    <tr>\n",
              "      <th>United States</th>\n",
              "      <td>0.540000</td>\n",
              "      <td>50</td>\n",
              "    </tr>\n",
              "    <tr>\n",
              "      <th>London</th>\n",
              "      <td>0.355556</td>\n",
              "      <td>45</td>\n",
              "    </tr>\n",
              "    <tr>\n",
              "      <th>Canada</th>\n",
              "      <td>0.448276</td>\n",
              "      <td>29</td>\n",
              "    </tr>\n",
              "    <tr>\n",
              "      <th>...</th>\n",
              "      <td>...</td>\n",
              "      <td>...</td>\n",
              "    </tr>\n",
              "    <tr>\n",
              "      <th>ÌøåÀå_T: 40.736324,-73.990062</th>\n",
              "      <td>0.000000</td>\n",
              "      <td>1</td>\n",
              "    </tr>\n",
              "    <tr>\n",
              "      <th>å_: ?? ÌÑ ? : ?</th>\n",
              "      <td>0.000000</td>\n",
              "      <td>1</td>\n",
              "    </tr>\n",
              "    <tr>\n",
              "      <th>å_å_Los Mina Cityã¢</th>\n",
              "      <td>0.000000</td>\n",
              "      <td>1</td>\n",
              "    </tr>\n",
              "    <tr>\n",
              "      <th>å¡å¡Midwest Û¢Û¢</th>\n",
              "      <td>0.000000</td>\n",
              "      <td>1</td>\n",
              "    </tr>\n",
              "    <tr>\n",
              "      <th>åÊ(?Û¢`?Û¢å«)??</th>\n",
              "      <td>0.000000</td>\n",
              "      <td>1</td>\n",
              "    </tr>\n",
              "  </tbody>\n",
              "</table>\n",
              "<p>3341 rows × 2 columns</p>\n",
              "</div>\n",
              "    <div class=\"colab-df-buttons\">\n",
              "      \n",
              "  <div class=\"colab-df-container\">\n",
              "    <button class=\"colab-df-convert\" onclick=\"convertToInteractive('df-85bae94d-45a2-470c-9030-ac60982401b0')\"\n",
              "            title=\"Convert this dataframe to an interactive table.\"\n",
              "            style=\"display:none;\">\n",
              "      \n",
              "  <svg xmlns=\"http://www.w3.org/2000/svg\" height=\"24px\" viewBox=\"0 -960 960 960\">\n",
              "    <path d=\"M120-120v-720h720v720H120Zm60-500h600v-160H180v160Zm220 220h160v-160H400v160Zm0 220h160v-160H400v160ZM180-400h160v-160H180v160Zm440 0h160v-160H620v160ZM180-180h160v-160H180v160Zm440 0h160v-160H620v160Z\"/>\n",
              "  </svg>\n",
              "    </button>\n",
              "    \n",
              "  <style>\n",
              "    .colab-df-container {\n",
              "      display:flex;\n",
              "      gap: 12px;\n",
              "    }\n",
              "\n",
              "    .colab-df-convert {\n",
              "      background-color: #E8F0FE;\n",
              "      border: none;\n",
              "      border-radius: 50%;\n",
              "      cursor: pointer;\n",
              "      display: none;\n",
              "      fill: #1967D2;\n",
              "      height: 32px;\n",
              "      padding: 0 0 0 0;\n",
              "      width: 32px;\n",
              "    }\n",
              "\n",
              "    .colab-df-convert:hover {\n",
              "      background-color: #E2EBFA;\n",
              "      box-shadow: 0px 1px 2px rgba(60, 64, 67, 0.3), 0px 1px 3px 1px rgba(60, 64, 67, 0.15);\n",
              "      fill: #174EA6;\n",
              "    }\n",
              "\n",
              "    .colab-df-buttons div {\n",
              "      margin-bottom: 4px;\n",
              "    }\n",
              "\n",
              "    [theme=dark] .colab-df-convert {\n",
              "      background-color: #3B4455;\n",
              "      fill: #D2E3FC;\n",
              "    }\n",
              "\n",
              "    [theme=dark] .colab-df-convert:hover {\n",
              "      background-color: #434B5C;\n",
              "      box-shadow: 0px 1px 3px 1px rgba(0, 0, 0, 0.15);\n",
              "      filter: drop-shadow(0px 1px 2px rgba(0, 0, 0, 0.3));\n",
              "      fill: #FFFFFF;\n",
              "    }\n",
              "  </style>\n",
              "\n",
              "    <script>\n",
              "      const buttonEl =\n",
              "        document.querySelector('#df-85bae94d-45a2-470c-9030-ac60982401b0 button.colab-df-convert');\n",
              "      buttonEl.style.display =\n",
              "        google.colab.kernel.accessAllowed ? 'block' : 'none';\n",
              "\n",
              "      async function convertToInteractive(key) {\n",
              "        const element = document.querySelector('#df-85bae94d-45a2-470c-9030-ac60982401b0');\n",
              "        const dataTable =\n",
              "          await google.colab.kernel.invokeFunction('convertToInteractive',\n",
              "                                                    [key], {});\n",
              "        if (!dataTable) return;\n",
              "\n",
              "        const docLinkHtml = 'Like what you see? Visit the ' +\n",
              "          '<a target=\"_blank\" href=https://colab.research.google.com/notebooks/data_table.ipynb>data table notebook</a>'\n",
              "          + ' to learn more about interactive tables.';\n",
              "        element.innerHTML = '';\n",
              "        dataTable['output_type'] = 'display_data';\n",
              "        await google.colab.output.renderOutput(dataTable, element);\n",
              "        const docLink = document.createElement('div');\n",
              "        docLink.innerHTML = docLinkHtml;\n",
              "        element.appendChild(docLink);\n",
              "      }\n",
              "    </script>\n",
              "  </div>\n",
              "  \n",
              "    </div>\n",
              "  </div>\n",
              "  "
            ],
            "application/vnd.google.colaboratory.intrinsic+json": {
              "type": "dataframe",
              "summary": "{\n  \"name\": \"train_df\",\n  \"rows\": 3341,\n  \"fields\": [\n    {\n      \"column\": \"location\",\n      \"properties\": {\n        \"dtype\": \"string\",\n        \"num_unique_values\": 3341,\n        \"samples\": [\n          \"Incognito\",\n          \"England & Wales Border, UK\",\n          \"Buffalo NY\"\n        ],\n        \"semantic_type\": \"\",\n        \"description\": \"\"\n      }\n    },\n    {\n      \"column\": \"mean\",\n      \"properties\": {\n        \"dtype\": \"number\",\n        \"std\": 0.46879880578559474,\n        \"min\": 0.0,\n        \"max\": 1.0,\n        \"num_unique_values\": 44,\n        \"samples\": [\n          0.2222222222222222,\n          0.5833333333333334,\n          0.16666666666666666\n        ],\n        \"semantic_type\": \"\",\n        \"description\": \"\"\n      }\n    },\n    {\n      \"column\": \"count\",\n      \"properties\": {\n        \"dtype\": \"number\",\n        \"std\": 3,\n        \"min\": 1,\n        \"max\": 104,\n        \"num_unique_values\": 30,\n        \"samples\": [\n          3,\n          15,\n          7\n        ],\n        \"semantic_type\": \"\",\n        \"description\": \"\"\n      }\n    }\n  ]\n}"
            }
          },
          "metadata": {},
          "execution_count": 250
        }
      ]
    },
    {
      "cell_type": "code",
      "source": [
        "# token = nltk.tokenize.RegexpTokenizer(r\"\\w+\")\n",
        "\n",
        "# sentence=token.tokenize('barbado Bridgetown JAMAICA two car set ablaze SANTA CRUZ Head of the St Elizabeth Police Superintende')\n",
        "# sentence"
      ],
      "metadata": {
        "id": "Ng6YxW0G5Ut5"
      },
      "execution_count": 251,
      "outputs": []
    },
    {
      "cell_type": "code",
      "source": [],
      "metadata": {
        "id": "dhlNE2Nafeq5"
      },
      "execution_count": 251,
      "outputs": []
    },
    {
      "cell_type": "code",
      "source": [],
      "metadata": {
        "id": "mhS8aAV-fetf"
      },
      "execution_count": 251,
      "outputs": []
    },
    {
      "cell_type": "code",
      "source": [],
      "metadata": {
        "id": "LiYWcVbs5Uxj"
      },
      "execution_count": 251,
      "outputs": []
    },
    {
      "cell_type": "markdown",
      "source": [
        "## 2. Data preprocessing and feature engineering\n",
        "\n",
        "- the corresponding functions are defined below"
      ],
      "metadata": {
        "id": "f76UMbdijSWS"
      }
    },
    {
      "cell_type": "code",
      "source": [
        "w_tokenizer = nltk.tokenize.WhitespaceTokenizer()\n",
        "lemmatizer = nltk.stem.WordNetLemmatizer()\n",
        "\n",
        "def lemmatize_text_nltk(text):\n",
        "    return ' '.join([lemmatizer.lemmatize(w).lower() for w in w_tokenizer.tokenize(text)])\n",
        "\n",
        "def lemmatize_text_spcy(text):\n",
        "    return ' '.join([token.lemma_ for token in nlp(text)])"
      ],
      "metadata": {
        "id": "zN1KSebQrAUB"
      },
      "execution_count": 385,
      "outputs": []
    },
    {
      "cell_type": "code",
      "source": [
        "def preprocess_data(df):\n",
        "  data = df.copy()\n",
        "\n",
        "  data['haslink'] = data['text'].str.contains('http').astype('int')\n",
        "  data['hastag'] = data['text'].str.contains('#').astype('int')\n",
        "\n",
        "  data['text'] = data['text'].replace(r'(http\\S+) | (www\\S+)|(@\\S+) | (\\&lt;|\\&gt;|\\&amp;) | (\\x89\\w+)', ' ', regex=True)\n",
        "\n",
        "  data['text_nltk'] = data['text'].apply(lemmatize_text_nltk)\n",
        "  data['text_spcy'] = data['text'].apply(lemmatize_text_spcy)\n",
        "\n",
        "  data['text_nltk'] = data['text_nltk'].replace(r'(\\W+)', ' ', regex=True)\n",
        "  data['text_spcy'] = data['text_spcy'].replace(r'(\\W+)', ' ', regex=True)\n",
        "\n",
        "  data['token_nltk'] = data['text_nltk'].map(lambda x: [w for w in w_tokenizer.tokenize(x)])\n",
        "  data['token_spcy'] = data['text_spcy'].map(lambda x: [token for token in nlp(x)])\n",
        "\n",
        "  return data"
      ],
      "metadata": {
        "id": "eqEJp76vkJVL"
      },
      "execution_count": 253,
      "outputs": []
    },
    {
      "cell_type": "code",
      "source": [
        "def get_embeddings(model, train, test, token_feature, target):\n",
        "\n",
        "  model.build_vocab(train[token_feature])\n",
        "  model.train(train[token_feature], total_examples=model.corpus_count, epochs=model.epochs)\n",
        "\n",
        "  X_train = np.array([np.mean([model.wv[w] for w in words if w in model.wv] or [np.zeros(model.vector_size)], axis=0) for words in train[token_feature]])\n",
        "  y_train = train[target].values.ravel()\n",
        "\n",
        "  X_test = np.array([np.mean([model.wv[w] for w in words if w in model.wv] or [np.zeros(model.vector_size)], axis=0) for words in test[token_feature]])\n",
        "\n",
        "  return X_train, y_train, X_test"
      ],
      "metadata": {
        "id": "SW1CRbpkeZsk"
      },
      "execution_count": 339,
      "outputs": []
    },
    {
      "cell_type": "code",
      "source": [
        "def get_train_val(data, drop_cols, target, test_size=0.2):\n",
        "  train, val = train_test_split(data, test_size=test_size, random_state=0, shuffle=True, stratify=train_df[target])\n",
        "\n",
        "  X_train = train.drop(columns=drop_cols + target)\n",
        "  y_train = train[target].values.ravel()\n",
        "\n",
        "  X_val = val.drop(columns=drop_cols + target)\n",
        "  y_val = val[target].values.ravel()\n",
        "\n",
        "  return X_train, y_train, X_val, y_val"
      ],
      "metadata": {
        "id": "w6o0Eqp7sdTL"
      },
      "execution_count": 255,
      "outputs": []
    },
    {
      "cell_type": "code",
      "source": [],
      "metadata": {
        "id": "DEoGL5xirvPW"
      },
      "execution_count": 255,
      "outputs": []
    },
    {
      "cell_type": "code",
      "source": [
        "data = preprocess_data(train_df)\n",
        "test_data = preprocess_data(test_df)"
      ],
      "metadata": {
        "id": "8MV7zYp3AmB6"
      },
      "execution_count": 256,
      "outputs": []
    },
    {
      "cell_type": "code",
      "source": [
        "data.head(3)"
      ],
      "metadata": {
        "colab": {
          "base_uri": "https://localhost:8080/",
          "height": 227
        },
        "id": "cfu4Ng6NAwvm",
        "outputId": "be2b0888-5d50-43e1-936a-f7e0ed0f6797"
      },
      "execution_count": 257,
      "outputs": [
        {
          "output_type": "execute_result",
          "data": {
            "text/plain": [
              "   keyword location                                               text  \\\n",
              "id                                                                       \n",
              "1      NaN      NaN  Our Deeds are the Reason of this #earthquake M...   \n",
              "4      NaN      NaN             Forest fire near La Ronge Sask. Canada   \n",
              "5      NaN      NaN  All residents asked to 'shelter in place' are ...   \n",
              "\n",
              "    target  haslink  hastag  \\\n",
              "id                            \n",
              "1        1        0       1   \n",
              "4        1        0       0   \n",
              "5        1        0       0   \n",
              "\n",
              "                                            text_nltk  \\\n",
              "id                                                      \n",
              "1   our deeds are the reason of this earthquake ma...   \n",
              "4               forest fire near la ronge sask canada   \n",
              "5   all resident asked to shelter in place are bei...   \n",
              "\n",
              "                                            text_spcy  \\\n",
              "id                                                      \n",
              "1   our deed be the Reason of this earthquake may ...   \n",
              "4               forest fire near La Ronge Sask Canada   \n",
              "5   all resident ask to shelter in place be be not...   \n",
              "\n",
              "                                           token_nltk  \\\n",
              "id                                                      \n",
              "1   [our, deeds, are, the, reason, of, this, earth...   \n",
              "4       [forest, fire, near, la, ronge, sask, canada]   \n",
              "5   [all, resident, asked, to, shelter, in, place,...   \n",
              "\n",
              "                                           token_spcy  \n",
              "id                                                     \n",
              "1   [our, deed, be, the, Reason, of, this, earthqu...  \n",
              "4       [forest, fire, near, La, Ronge, Sask, Canada]  \n",
              "5   [all, resident, ask, to, shelter, in, place, b...  "
            ],
            "text/html": [
              "\n",
              "  <div id=\"df-9c5e72a3-6919-448d-af2d-675afb951add\" class=\"colab-df-container\">\n",
              "    <div>\n",
              "<style scoped>\n",
              "    .dataframe tbody tr th:only-of-type {\n",
              "        vertical-align: middle;\n",
              "    }\n",
              "\n",
              "    .dataframe tbody tr th {\n",
              "        vertical-align: top;\n",
              "    }\n",
              "\n",
              "    .dataframe thead th {\n",
              "        text-align: right;\n",
              "    }\n",
              "</style>\n",
              "<table border=\"1\" class=\"dataframe\">\n",
              "  <thead>\n",
              "    <tr style=\"text-align: right;\">\n",
              "      <th></th>\n",
              "      <th>keyword</th>\n",
              "      <th>location</th>\n",
              "      <th>text</th>\n",
              "      <th>target</th>\n",
              "      <th>haslink</th>\n",
              "      <th>hastag</th>\n",
              "      <th>text_nltk</th>\n",
              "      <th>text_spcy</th>\n",
              "      <th>token_nltk</th>\n",
              "      <th>token_spcy</th>\n",
              "    </tr>\n",
              "    <tr>\n",
              "      <th>id</th>\n",
              "      <th></th>\n",
              "      <th></th>\n",
              "      <th></th>\n",
              "      <th></th>\n",
              "      <th></th>\n",
              "      <th></th>\n",
              "      <th></th>\n",
              "      <th></th>\n",
              "      <th></th>\n",
              "      <th></th>\n",
              "    </tr>\n",
              "  </thead>\n",
              "  <tbody>\n",
              "    <tr>\n",
              "      <th>1</th>\n",
              "      <td>NaN</td>\n",
              "      <td>NaN</td>\n",
              "      <td>Our Deeds are the Reason of this #earthquake M...</td>\n",
              "      <td>1</td>\n",
              "      <td>0</td>\n",
              "      <td>1</td>\n",
              "      <td>our deeds are the reason of this earthquake ma...</td>\n",
              "      <td>our deed be the Reason of this earthquake may ...</td>\n",
              "      <td>[our, deeds, are, the, reason, of, this, earth...</td>\n",
              "      <td>[our, deed, be, the, Reason, of, this, earthqu...</td>\n",
              "    </tr>\n",
              "    <tr>\n",
              "      <th>4</th>\n",
              "      <td>NaN</td>\n",
              "      <td>NaN</td>\n",
              "      <td>Forest fire near La Ronge Sask. Canada</td>\n",
              "      <td>1</td>\n",
              "      <td>0</td>\n",
              "      <td>0</td>\n",
              "      <td>forest fire near la ronge sask canada</td>\n",
              "      <td>forest fire near La Ronge Sask Canada</td>\n",
              "      <td>[forest, fire, near, la, ronge, sask, canada]</td>\n",
              "      <td>[forest, fire, near, La, Ronge, Sask, Canada]</td>\n",
              "    </tr>\n",
              "    <tr>\n",
              "      <th>5</th>\n",
              "      <td>NaN</td>\n",
              "      <td>NaN</td>\n",
              "      <td>All residents asked to 'shelter in place' are ...</td>\n",
              "      <td>1</td>\n",
              "      <td>0</td>\n",
              "      <td>0</td>\n",
              "      <td>all resident asked to shelter in place are bei...</td>\n",
              "      <td>all resident ask to shelter in place be be not...</td>\n",
              "      <td>[all, resident, asked, to, shelter, in, place,...</td>\n",
              "      <td>[all, resident, ask, to, shelter, in, place, b...</td>\n",
              "    </tr>\n",
              "  </tbody>\n",
              "</table>\n",
              "</div>\n",
              "    <div class=\"colab-df-buttons\">\n",
              "      \n",
              "  <div class=\"colab-df-container\">\n",
              "    <button class=\"colab-df-convert\" onclick=\"convertToInteractive('df-9c5e72a3-6919-448d-af2d-675afb951add')\"\n",
              "            title=\"Convert this dataframe to an interactive table.\"\n",
              "            style=\"display:none;\">\n",
              "      \n",
              "  <svg xmlns=\"http://www.w3.org/2000/svg\" height=\"24px\" viewBox=\"0 -960 960 960\">\n",
              "    <path d=\"M120-120v-720h720v720H120Zm60-500h600v-160H180v160Zm220 220h160v-160H400v160Zm0 220h160v-160H400v160ZM180-400h160v-160H180v160Zm440 0h160v-160H620v160ZM180-180h160v-160H180v160Zm440 0h160v-160H620v160Z\"/>\n",
              "  </svg>\n",
              "    </button>\n",
              "    \n",
              "  <style>\n",
              "    .colab-df-container {\n",
              "      display:flex;\n",
              "      gap: 12px;\n",
              "    }\n",
              "\n",
              "    .colab-df-convert {\n",
              "      background-color: #E8F0FE;\n",
              "      border: none;\n",
              "      border-radius: 50%;\n",
              "      cursor: pointer;\n",
              "      display: none;\n",
              "      fill: #1967D2;\n",
              "      height: 32px;\n",
              "      padding: 0 0 0 0;\n",
              "      width: 32px;\n",
              "    }\n",
              "\n",
              "    .colab-df-convert:hover {\n",
              "      background-color: #E2EBFA;\n",
              "      box-shadow: 0px 1px 2px rgba(60, 64, 67, 0.3), 0px 1px 3px 1px rgba(60, 64, 67, 0.15);\n",
              "      fill: #174EA6;\n",
              "    }\n",
              "\n",
              "    .colab-df-buttons div {\n",
              "      margin-bottom: 4px;\n",
              "    }\n",
              "\n",
              "    [theme=dark] .colab-df-convert {\n",
              "      background-color: #3B4455;\n",
              "      fill: #D2E3FC;\n",
              "    }\n",
              "\n",
              "    [theme=dark] .colab-df-convert:hover {\n",
              "      background-color: #434B5C;\n",
              "      box-shadow: 0px 1px 3px 1px rgba(0, 0, 0, 0.15);\n",
              "      filter: drop-shadow(0px 1px 2px rgba(0, 0, 0, 0.3));\n",
              "      fill: #FFFFFF;\n",
              "    }\n",
              "  </style>\n",
              "\n",
              "    <script>\n",
              "      const buttonEl =\n",
              "        document.querySelector('#df-9c5e72a3-6919-448d-af2d-675afb951add button.colab-df-convert');\n",
              "      buttonEl.style.display =\n",
              "        google.colab.kernel.accessAllowed ? 'block' : 'none';\n",
              "\n",
              "      async function convertToInteractive(key) {\n",
              "        const element = document.querySelector('#df-9c5e72a3-6919-448d-af2d-675afb951add');\n",
              "        const dataTable =\n",
              "          await google.colab.kernel.invokeFunction('convertToInteractive',\n",
              "                                                    [key], {});\n",
              "        if (!dataTable) return;\n",
              "\n",
              "        const docLinkHtml = 'Like what you see? Visit the ' +\n",
              "          '<a target=\"_blank\" href=https://colab.research.google.com/notebooks/data_table.ipynb>data table notebook</a>'\n",
              "          + ' to learn more about interactive tables.';\n",
              "        element.innerHTML = '';\n",
              "        dataTable['output_type'] = 'display_data';\n",
              "        await google.colab.output.renderOutput(dataTable, element);\n",
              "        const docLink = document.createElement('div');\n",
              "        docLink.innerHTML = docLinkHtml;\n",
              "        element.appendChild(docLink);\n",
              "      }\n",
              "    </script>\n",
              "  </div>\n",
              "  \n",
              "    </div>\n",
              "  </div>\n",
              "  "
            ],
            "application/vnd.google.colaboratory.intrinsic+json": {
              "type": "dataframe",
              "variable_name": "data",
              "summary": "{\n  \"name\": \"data\",\n  \"rows\": 7613,\n  \"fields\": [\n    {\n      \"column\": \"id\",\n      \"properties\": {\n        \"dtype\": \"number\",\n        \"std\": 3137,\n        \"min\": 1,\n        \"max\": 10873,\n        \"num_unique_values\": 7613,\n        \"samples\": [\n          3796,\n          3185,\n          7769\n        ],\n        \"semantic_type\": \"\",\n        \"description\": \"\"\n      }\n    },\n    {\n      \"column\": \"keyword\",\n      \"properties\": {\n        \"dtype\": \"category\",\n        \"num_unique_values\": 221,\n        \"samples\": [\n          \"injury\",\n          \"nuclear%20reactor\",\n          \"engulfed\"\n        ],\n        \"semantic_type\": \"\",\n        \"description\": \"\"\n      }\n    },\n    {\n      \"column\": \"location\",\n      \"properties\": {\n        \"dtype\": \"category\",\n        \"num_unique_values\": 3341,\n        \"samples\": [\n          \"Oklahoma\",\n          \"Starling City\",\n          \"Trinidad and Tobago\"\n        ],\n        \"semantic_type\": \"\",\n        \"description\": \"\"\n      }\n    },\n    {\n      \"column\": \"text\",\n      \"properties\": {\n        \"dtype\": \"string\",\n        \"num_unique_values\": 7411,\n        \"samples\": [\n          \"'We are now prepared to obliterate more rapidly and completely every productive enterprise the Japanese have above ground in any city.'\",\n          \"Currently want to drive my car off a cliff and fall to my death.\",\n          \"I totally agree. They rape kill destroy and leave land desolate. Action needs to happen before the swarm swells. https://t.co/Twcds433YI\"\n        ],\n        \"semantic_type\": \"\",\n        \"description\": \"\"\n      }\n    },\n    {\n      \"column\": \"target\",\n      \"properties\": {\n        \"dtype\": \"number\",\n        \"std\": 0,\n        \"min\": 0,\n        \"max\": 1,\n        \"num_unique_values\": 2,\n        \"samples\": [\n          0,\n          1\n        ],\n        \"semantic_type\": \"\",\n        \"description\": \"\"\n      }\n    },\n    {\n      \"column\": \"haslink\",\n      \"properties\": {\n        \"dtype\": \"number\",\n        \"std\": 0,\n        \"min\": 0,\n        \"max\": 1,\n        \"num_unique_values\": 2,\n        \"samples\": [\n          1,\n          0\n        ],\n        \"semantic_type\": \"\",\n        \"description\": \"\"\n      }\n    },\n    {\n      \"column\": \"hastag\",\n      \"properties\": {\n        \"dtype\": \"number\",\n        \"std\": 0,\n        \"min\": 0,\n        \"max\": 1,\n        \"num_unique_values\": 2,\n        \"samples\": [\n          0,\n          1\n        ],\n        \"semantic_type\": \"\",\n        \"description\": \"\"\n      }\n    },\n    {\n      \"column\": \"text_nltk\",\n      \"properties\": {\n        \"dtype\": \"string\",\n        \"num_unique_values\": 7393,\n        \"samples\": [\n          \"the sunset boy wreck my bed original 1979 usa gimp label vinyl 7 45 newave http t co hqnx8qmeg3\",\n          \"worry about yourself\"\n        ],\n        \"semantic_type\": \"\",\n        \"description\": \"\"\n      }\n    },\n    {\n      \"column\": \"text_spcy\",\n      \"properties\": {\n        \"dtype\": \"string\",\n        \"num_unique_values\": 7403,\n        \"samples\": [\n          \" you stay in Houston \",\n          \" indeed and a remarkably puny idea to place at the epicentre of a new post capitalism epoch\"\n        ],\n        \"semantic_type\": \"\",\n        \"description\": \"\"\n      }\n    },\n    {\n      \"column\": \"token_nltk\",\n      \"properties\": {\n        \"dtype\": \"object\",\n        \"semantic_type\": \"\",\n        \"description\": \"\"\n      }\n    },\n    {\n      \"column\": \"token_spcy\",\n      \"properties\": {\n        \"dtype\": \"object\",\n        \"semantic_type\": \"\",\n        \"description\": \"\"\n      }\n    }\n  ]\n}"
            }
          },
          "metadata": {},
          "execution_count": 257
        }
      ]
    },
    {
      "cell_type": "code",
      "source": [
        "data.head(3)['text'].values"
      ],
      "metadata": {
        "colab": {
          "base_uri": "https://localhost:8080/"
        },
        "id": "qgyVWra61Xh2",
        "outputId": "e3ffe83b-2ca2-4c26-d793-c17980024534"
      },
      "execution_count": 258,
      "outputs": [
        {
          "output_type": "execute_result",
          "data": {
            "text/plain": [
              "array(['Our Deeds are the Reason of this #earthquake May ALLAH Forgive us all',\n",
              "       'Forest fire near La Ronge Sask. Canada',\n",
              "       \"All residents asked to 'shelter in place' are being notified by officers. No other evacuation or shelter in place orders are expected\"],\n",
              "      dtype=object)"
            ]
          },
          "metadata": {},
          "execution_count": 258
        }
      ]
    },
    {
      "cell_type": "code",
      "source": [
        "data.head(3)['token_nltk'].values"
      ],
      "metadata": {
        "colab": {
          "base_uri": "https://localhost:8080/"
        },
        "id": "mOBzynEu1XkM",
        "outputId": "00b1c821-8e95-4d1e-8b7b-d316dbf0aaae"
      },
      "execution_count": 259,
      "outputs": [
        {
          "output_type": "execute_result",
          "data": {
            "text/plain": [
              "array([list(['our', 'deeds', 'are', 'the', 'reason', 'of', 'this', 'earthquake', 'may', 'allah', 'forgive', 'u', 'all']),\n",
              "       list(['forest', 'fire', 'near', 'la', 'ronge', 'sask', 'canada']),\n",
              "       list(['all', 'resident', 'asked', 'to', 'shelter', 'in', 'place', 'are', 'being', 'notified', 'by', 'officers', 'no', 'other', 'evacuation', 'or', 'shelter', 'in', 'place', 'order', 'are', 'expected'])],\n",
              "      dtype=object)"
            ]
          },
          "metadata": {},
          "execution_count": 259
        }
      ]
    },
    {
      "cell_type": "code",
      "source": [
        "data.head(3)['token_spcy'].values"
      ],
      "metadata": {
        "colab": {
          "base_uri": "https://localhost:8080/"
        },
        "id": "Lo0B-dzk1Xo4",
        "outputId": "e6f4a79f-8b49-441e-e0b8-60cf72c0ca04"
      },
      "execution_count": 260,
      "outputs": [
        {
          "output_type": "execute_result",
          "data": {
            "text/plain": [
              "array([list([our, deed, be, the, Reason, of, this, earthquake, may, ALLAH, forgive, we, all]),\n",
              "       list([forest, fire, near, La, Ronge, Sask, Canada]),\n",
              "       list([all, resident, ask, to, shelter, in, place, be, be, notify, by, officer, no, other, evacuation, or, shelter, in, place, order, be, expect])],\n",
              "      dtype=object)"
            ]
          },
          "metadata": {},
          "execution_count": 260
        }
      ]
    },
    {
      "cell_type": "code",
      "source": [
        "stop_words = list(stopwords.words('english'))"
      ],
      "metadata": {
        "id": "NB_WJuL4j4hT"
      },
      "execution_count": 261,
      "outputs": []
    },
    {
      "cell_type": "code",
      "source": [],
      "metadata": {
        "id": "kHjnLaIOp3x4"
      },
      "execution_count": null,
      "outputs": []
    },
    {
      "cell_type": "markdown",
      "source": [
        "## 3. Modeling and evaluation"
      ],
      "metadata": {
        "id": "sD6F2LKDkZVF"
      }
    },
    {
      "cell_type": "markdown",
      "source": [
        "### TF-IDF\n",
        "\n",
        "The logistic regression model will be tuned using the tf-idf vectorized features on the preprocessed text lemmatized using the NLTK library"
      ],
      "metadata": {
        "id": "ktQUu-xutgHd"
      }
    },
    {
      "cell_type": "code",
      "source": [
        "drop_cols = []\n",
        "target = ['target']\n",
        "\n",
        "X_train, y_train, X_val, y_val = get_train_val(data, drop_cols, target)"
      ],
      "metadata": {
        "id": "Ufmonp6pBeOV"
      },
      "execution_count": 101,
      "outputs": []
    },
    {
      "cell_type": "code",
      "source": [
        "preprocessor = ColumnTransformer(\n",
        "    [('tfidf', TfidfVectorizer(encoding='unicode'), 'text_nltk')])\n",
        "\n",
        "pipeline = Pipeline([\n",
        "    ('preproc', preprocessor),\n",
        "    ('clf', LogisticRegression(random_state=0)),\n",
        "])\n",
        "\n",
        "parameters = {\n",
        "    'preproc__tfidf__ngram_range': [(1, 1), (1, 2), (1, 3)],\n",
        "    'preproc__tfidf__max_features': [1000, 3000, None],\n",
        "    'preproc__tfidf__min_df': [0.0001, 0.001, 0.01],\n",
        "    'clf__C': [0.1, 1.0, 10.0],\n",
        "    'clf__class_weight': ['balanced'],\n",
        "}\n",
        "\n",
        "nltk_search = GridSearchCV(pipeline, parameters, cv=3, verbose=1, scoring='f1')\n",
        "nltk_search.fit(X_train, y_train)\n",
        "\n",
        "print('Best score: %.3f' % nltk_search.best_score_)\n",
        "print('Config: %s' % nltk_search.best_params_)"
      ],
      "metadata": {
        "colab": {
          "base_uri": "https://localhost:8080/"
        },
        "id": "jopkQs6AWoE3",
        "outputId": "07144279-9016-45f4-a611-774a54edfe01"
      },
      "execution_count": 103,
      "outputs": [
        {
          "output_type": "stream",
          "name": "stdout",
          "text": [
            "Fitting 3 folds for each of 81 candidates, totalling 243 fits\n",
            "Best score: 0.747\n",
            "Config: {'clf__C': 10.0, 'clf__class_weight': 'balanced', 'preproc__tfidf__max_features': None, 'preproc__tfidf__min_df': 0.0001, 'preproc__tfidf__ngram_range': (1, 1)}\n"
          ]
        }
      ]
    },
    {
      "cell_type": "code",
      "source": [
        "print('Train F1 score:', f1_score(y_train, nltk_search.predict(X_train)))\n",
        "print('Validation F1 score:', f1_score(y_val, nltk_search.predict(X_val)))"
      ],
      "metadata": {
        "colab": {
          "base_uri": "https://localhost:8080/"
        },
        "id": "0iRnD-4CWoav",
        "outputId": "a1886b43-000e-409c-aa44-c6ea7f451e5e"
      },
      "execution_count": 105,
      "outputs": [
        {
          "output_type": "stream",
          "name": "stdout",
          "text": [
            "Train F1 score: 0.9794822627037392\n",
            "Validation F1 score: 0.7598455598455598\n"
          ]
        }
      ]
    },
    {
      "cell_type": "markdown",
      "source": [
        "- Next, a model with the same parameters will be trained on text lemmatized with the spacy library"
      ],
      "metadata": {
        "id": "Q1-2kXAhhDWC"
      }
    },
    {
      "cell_type": "code",
      "source": [
        "preprocessor = ColumnTransformer(\n",
        "    [('tfidf', TfidfVectorizer(encoding='unicode'), 'text_spcy')])\n",
        "\n",
        "pipeline = Pipeline([\n",
        "    ('preproc', preprocessor),\n",
        "    ('clf', LogisticRegression(random_state=0)),\n",
        "])\n",
        "\n",
        "parameters = {\n",
        "    'preproc__tfidf__ngram_range': [(1, 1), (1, 2), (1, 3)],\n",
        "    'preproc__tfidf__max_features': [1000, 3000, None],\n",
        "    'preproc__tfidf__min_df': [0.0001, 0.001, 0.01],\n",
        "    'clf__C': [0.1, 1.0, 10.0],\n",
        "    'clf__class_weight': ['balanced'],\n",
        "}\n",
        "\n",
        "spcy_search = GridSearchCV(pipeline, parameters, cv=3, verbose=1, scoring='f1')\n",
        "spcy_search.fit(X_train, y_train)\n",
        "\n",
        "print('Best score: %.3f' % spcy_search.best_score_)\n",
        "print('Config: %s' % spcy_search.best_params_)"
      ],
      "metadata": {
        "colab": {
          "base_uri": "https://localhost:8080/"
        },
        "id": "SAEbP45UWodF",
        "outputId": "4e6bdd01-cd11-46bb-aef6-9a08bb35303c"
      },
      "execution_count": 106,
      "outputs": [
        {
          "output_type": "stream",
          "name": "stdout",
          "text": [
            "Fitting 3 folds for each of 81 candidates, totalling 243 fits\n",
            "Best score: 0.749\n",
            "Config: {'clf__C': 1.0, 'clf__class_weight': 'balanced', 'preproc__tfidf__max_features': 3000, 'preproc__tfidf__min_df': 0.0001, 'preproc__tfidf__ngram_range': (1, 1)}\n"
          ]
        }
      ]
    },
    {
      "cell_type": "code",
      "source": [
        "print('Train F1 score:', f1_score(y_train, spcy_search.predict(X_train)))\n",
        "print('Validation F1 score:', f1_score(y_val, spcy_search.predict(X_val)))"
      ],
      "metadata": {
        "colab": {
          "base_uri": "https://localhost:8080/"
        },
        "id": "OYRQLZARXkQw",
        "outputId": "b5d0d514-8068-49b3-e2d0-004fc790b6be"
      },
      "execution_count": 107,
      "outputs": [
        {
          "output_type": "stream",
          "name": "stdout",
          "text": [
            "Train F1 score: 0.8428683385579937\n",
            "Validation F1 score: 0.7832817337461301\n"
          ]
        }
      ]
    },
    {
      "cell_type": "markdown",
      "source": [
        "- As a result, model trained on text data lemmatized with Spacy library showed a slightly better performance.\n",
        "\n",
        "- As a next step, using TruncatedSVD over TF-IDF features in order to lower the dimensionality of the training data. Tuning parameters with RandomisedSearchCV."
      ],
      "metadata": {
        "id": "h8QUjzkqL1Kd"
      }
    },
    {
      "cell_type": "code",
      "source": [
        "preprocessor = ColumnTransformer(\n",
        "    [('tfidf', TfidfVectorizer(encoding='unicode'), 'text_spcy')]\n",
        "    )\n",
        "\n",
        "pipeline = Pipeline([\n",
        "    ('preproc', preprocessor),\n",
        "    ('svd', TruncatedSVD(n_components=300, n_iter=5, random_state=0)),\n",
        "    ('clf', LogisticRegression(random_state=0)),\n",
        "])\n",
        "\n",
        "parameters = {\n",
        "    'preproc__tfidf__ngram_range': [(1, 1), (1, 2), (1, 3)],\n",
        "    #'preproc__tfidf__min_df': uniform(0.0001, 0.01),\n",
        "    #'preproc__tfidf__max_features': randint(500, 3000),\n",
        "    'preproc__tfidf__stop_words': [stop_words, None],\n",
        "\n",
        "    #'svd__n_iter': randint(5, 50),\n",
        "    #'svd__n_components': [10, 100, 500],\n",
        "\n",
        "    'clf__C': uniform(0.01, 10),\n",
        "    'clf__class_weight': ['balanced'],\n",
        "    'clf__max_iter': [300]\n",
        "}\n",
        "\n",
        "rand_search = RandomizedSearchCV(pipeline, parameters, cv=3, n_iter=30, verbose=1, scoring='f1', random_state=0)\n",
        "rand_search.fit(X_train, y_train)\n",
        "\n",
        "print('Best score: %.3f' % rand_search.best_score_)\n",
        "print('Config: %s' % rand_search.best_params_)"
      ],
      "metadata": {
        "colab": {
          "base_uri": "https://localhost:8080/"
        },
        "id": "R_eb_Wiqi52q",
        "outputId": "cad98cdd-ca7a-4cca-c3ba-b7268950e1bc"
      },
      "execution_count": 108,
      "outputs": [
        {
          "output_type": "stream",
          "name": "stdout",
          "text": [
            "Fitting 3 folds for each of 30 candidates, totalling 90 fits\n",
            "Best score: 0.736\n",
            "Config: {'clf__C': 5.298949197529044, 'clf__class_weight': 'balanced', 'clf__max_iter': 300, 'preproc__tfidf__ngram_range': (1, 1), 'preproc__tfidf__stop_words': None}\n"
          ]
        }
      ]
    },
    {
      "cell_type": "code",
      "source": [
        "print('Train F1 score:', f1_score(y_train, rand_search.predict(X_train)))\n",
        "print('Validation F1 score:', f1_score(y_val, rand_search.predict(X_val)))"
      ],
      "metadata": {
        "colab": {
          "base_uri": "https://localhost:8080/"
        },
        "id": "E6vnDciji55A",
        "outputId": "0cc422fc-630c-4449-cd24-c7dc612fdf42"
      },
      "execution_count": 109,
      "outputs": [
        {
          "output_type": "stream",
          "name": "stdout",
          "text": [
            "Train F1 score: 0.7721859393008068\n",
            "Validation F1 score: 0.7691131498470948\n"
          ]
        }
      ]
    },
    {
      "cell_type": "markdown",
      "source": [
        "- In summary, the model that utilized the SVD transormation of the data shows similar to previous models performance and at the same time, it did not overfit training data as much as previous models."
      ],
      "metadata": {
        "id": "npXL1-7y0tA7"
      }
    },
    {
      "cell_type": "markdown",
      "source": [
        "### Word2Vec\n",
        "\n",
        "The logistic regression model will be tuned using the Word2Vec model embeddings"
      ],
      "metadata": {
        "id": "NYBphHin1VCs"
      }
    },
    {
      "cell_type": "code",
      "source": [
        "w2vmodel = Word2Vec(vector_size=300, window=4, min_count=4, sg=1)\n",
        "\n",
        "X_train, y_train, X_test = get_embeddings(w2vmodel, data, test_data, 'token_nltk', 'target')\n",
        "\n",
        "X_tr, X_vl, y_tr, y_vl = train_test_split(X_train, y_train, test_size=0.2, random_state=0, shuffle=True, stratify=y_train)"
      ],
      "metadata": {
        "id": "uS4BoofogeDD"
      },
      "execution_count": 347,
      "outputs": []
    },
    {
      "cell_type": "code",
      "source": [
        "pipeline = Pipeline([\n",
        "    ('clf', LogisticRegression(random_state=0)),\n",
        "])\n",
        "\n",
        "parameters = {\n",
        "    'clf__C': uniform(0.01, 10),\n",
        "    'clf__class_weight': ['balanced'],\n",
        "    'clf__max_iter': [300]\n",
        "}\n",
        "\n",
        "w2v_search = RandomizedSearchCV(pipeline, parameters, cv=3, n_iter=30, verbose=1, scoring='f1', random_state=0)\n",
        "w2v_search.fit(X_tr, y_tr)\n",
        "\n",
        "print('Best score: %.3f' % w2v_search.best_score_)\n",
        "print('Config: %s' % w2v_search.best_params_)"
      ],
      "metadata": {
        "colab": {
          "base_uri": "https://localhost:8080/"
        },
        "id": "gCc-I8qHxbST",
        "outputId": "df554733-867c-4d0e-81fd-0036e6c1cfc0"
      },
      "execution_count": 348,
      "outputs": [
        {
          "output_type": "stream",
          "name": "stdout",
          "text": [
            "Fitting 3 folds for each of 30 candidates, totalling 90 fits\n",
            "Best score: 0.681\n",
            "Config: {'clf__C': 8.71012148246819, 'clf__class_weight': 'balanced', 'clf__max_iter': 300}\n"
          ]
        }
      ]
    },
    {
      "cell_type": "code",
      "source": [
        "print('Train F1 score:', f1_score(y_tr, w2v_search.predict(X_tr)))\n",
        "print('Validation F1 score:', f1_score(y_vl, w2v_search.predict(X_vl)))"
      ],
      "metadata": {
        "colab": {
          "base_uri": "https://localhost:8080/"
        },
        "id": "6ZTx9nlxyzsO",
        "outputId": "73502eb9-1907-48cb-e702-4bcf7fa8331f"
      },
      "execution_count": 349,
      "outputs": [
        {
          "output_type": "stream",
          "name": "stdout",
          "text": [
            "Train F1 score: 0.6913907284768211\n",
            "Validation F1 score: 0.7052551408987052\n"
          ]
        }
      ]
    },
    {
      "cell_type": "markdown",
      "source": [
        "- The Logistic Regression classifier trained on Word2Vec embeddings performs worse than previous models based on tf-idf vectorized features."
      ],
      "metadata": {
        "id": "VI5CcBkT9L7w"
      }
    },
    {
      "cell_type": "markdown",
      "source": [
        "- Let's sample some tweets from the training data and see which words are considered 'similar' to them according to the trained Word2Vec model"
      ],
      "metadata": {
        "id": "5aUrCQeC8_T7"
      }
    },
    {
      "cell_type": "code",
      "source": [
        "data['token_nltk'].sample(3).values"
      ],
      "metadata": {
        "colab": {
          "base_uri": "https://localhost:8080/"
        },
        "id": "oDDzkPHV8omg",
        "outputId": "71d17604-5983-4dc6-ac0f-9629ddae01b7"
      },
      "execution_count": 357,
      "outputs": [
        {
          "output_type": "execute_result",
          "data": {
            "text/plain": [
              "array([list(['perspectives', 'on', 'the', 'grateful', 'dead', 'critical', 'writings', 'contributions', 'to', 'the', 'study', 'http', 't', 'co', 'aggryhvxkr']),\n",
              "       list(['1', '94', 'earthquake', 'occurred', '5km', 's', 'of', 'volcano', 'hawaii', 'at', '01', '04', 'utc', 'earthquake', 'volcano', 'http', 't', 'co', 'auf4j4owj1']),\n",
              "       list(['would', 'a', 'paramedic', 'really', 'do', 'that', 'leave', 'someone', 'inside', 'a', 'building', 'that', 's', 'about', 'to', 'collapse', 'blow', 'up', 'halloikbenwill'])],\n",
              "      dtype=object)"
            ]
          },
          "metadata": {},
          "execution_count": 357
        }
      ]
    },
    {
      "cell_type": "code",
      "source": [
        "words=[\"buildings\", \"storm\", \"people\", \"emergency\", \"city\", \"weapon\", \"earthquake\"]\n",
        "\n",
        "print('Top 3 words similar to')\n",
        "for w in words:\n",
        "    print(w, ':', list(zip(*w2vmodel.wv.most_similar(w, topn=3)))[0])"
      ],
      "metadata": {
        "colab": {
          "base_uri": "https://localhost:8080/"
        },
        "id": "hVYDrJ0-zRaW",
        "outputId": "57bdd693-aaba-49d7-8390-6439a1587e92"
      },
      "execution_count": 359,
      "outputs": [
        {
          "output_type": "stream",
          "name": "stdout",
          "text": [
            "Top 3 words similar to\n",
            "buildings : ('sea', 'whirlwind', 'blaze')\n",
            "storm : ('called', 'drought', 'hurricane')\n",
            "people : ('rioting', 'both', 'country')\n",
            "emergency : ('services', 'apc', 'area')\n",
            "city : ('potus', 'rì', 'teen')\n",
            "weapon : ('rioting', 'everything', 'tweet')\n",
            "earthquake : ('52', 'edt', '09')\n"
          ]
        }
      ]
    },
    {
      "cell_type": "markdown",
      "source": [
        "### FastText"
      ],
      "metadata": {
        "id": "DbgC-f1sXT8J"
      }
    },
    {
      "cell_type": "code",
      "source": [
        "ftmodel = FastText(vector_size=300, window=4, min_count=4, sg=1)\n",
        "\n",
        "X_train, y_train, X_test = get_embeddings(ftmodel, data, test_data, 'token_nltk', 'target')\n",
        "\n",
        "X_tr, X_vl, y_tr, y_vl = train_test_split(X_train, y_train, test_size=0.2, random_state=0, shuffle=True, stratify=y_train)"
      ],
      "metadata": {
        "id": "W7IK94BWejnN"
      },
      "execution_count": 360,
      "outputs": []
    },
    {
      "cell_type": "code",
      "source": [
        "words=[\"weather\", \"storm\", \"people\", \"emergency\", \"city\", \"weapon\", \"security\"]\n",
        "\n",
        "print('Top 3 words similar to')\n",
        "for w in words:\n",
        "    print(w, ':', list(zip(*ftmodel.wv.most_similar(w, topn=3)))[0])"
      ],
      "metadata": {
        "colab": {
          "base_uri": "https://localhost:8080/"
        },
        "id": "fT8JPMjqZLJN",
        "outputId": "d379b42b-29f6-4f75-eae9-b3170a9ea44c"
      },
      "execution_count": 361,
      "outputs": [
        {
          "output_type": "stream",
          "name": "stdout",
          "text": [
            "Top 3 words similar to\n",
            "weather : ('leather', 'further', 'father')\n",
            "storm : ('sandstorm', 'abstorm', 'windstorm')\n",
            "people : ('whether', 'either', 'whats')\n",
            "emergency : ('aussies', 'icemoon', 'security')\n",
            "city : ('spaceship', 'richmond', '13')\n",
            "weapon : ('else', 'able', 'double')\n",
            "security : ('anchorage', 'ramag', 'soudelor')\n"
          ]
        }
      ]
    },
    {
      "cell_type": "code",
      "source": [
        "pipeline = Pipeline([\n",
        "    ('clf', LogisticRegression(random_state=0)),\n",
        "])\n",
        "\n",
        "parameters = {\n",
        "    'clf__C': uniform(0.01, 10),\n",
        "    'clf__class_weight': ['balanced'],\n",
        "    'clf__max_iter': [300]\n",
        "}\n",
        "\n",
        "ft_search = RandomizedSearchCV(pipeline, parameters, cv=3, n_iter=30, verbose=1, scoring='f1', random_state=0)\n",
        "ft_search.fit(X_tr, y_tr)\n",
        "\n",
        "print('Best score: %.3f' % ft_search.best_score_)\n",
        "print('Config: %s' % ft_search.best_params_)"
      ],
      "metadata": {
        "colab": {
          "base_uri": "https://localhost:8080/"
        },
        "id": "pNSLHSqgZEeH",
        "outputId": "100af948-8e72-4a15-a862-ada0c34a386e"
      },
      "execution_count": 362,
      "outputs": [
        {
          "output_type": "stream",
          "name": "stdout",
          "text": [
            "Fitting 3 folds for each of 30 candidates, totalling 90 fits\n",
            "Best score: 0.674\n",
            "Config: {'clf__C': 8.927730007820797, 'clf__class_weight': 'balanced', 'clf__max_iter': 300}\n"
          ]
        }
      ]
    },
    {
      "cell_type": "code",
      "source": [
        "print('Train F1 score:', f1_score(y_tr, ft_search.predict(X_tr)))\n",
        "print('Validation F1 score:', f1_score(y_vl, ft_search.predict(X_vl)))"
      ],
      "metadata": {
        "colab": {
          "base_uri": "https://localhost:8080/"
        },
        "id": "Uhc4edh7ZEfJ",
        "outputId": "a15ddbf5-696b-4add-b23a-fad0e9d0350e"
      },
      "execution_count": 363,
      "outputs": [
        {
          "output_type": "stream",
          "name": "stdout",
          "text": [
            "Train F1 score: 0.6807043020511889\n",
            "Validation F1 score: 0.6817518248175183\n"
          ]
        }
      ]
    },
    {
      "cell_type": "code",
      "source": [],
      "metadata": {
        "id": "RYyE2rdF2GeY"
      },
      "execution_count": null,
      "outputs": []
    },
    {
      "cell_type": "markdown",
      "source": [
        "### Glove"
      ],
      "metadata": {
        "id": "DUeC9ch32Gfs"
      }
    },
    {
      "cell_type": "code",
      "source": [
        "from google.colab import drive\n",
        "drive.mount('/content/gdrive/')"
      ],
      "metadata": {
        "colab": {
          "base_uri": "https://localhost:8080/"
        },
        "id": "35ZlKBVU2H02",
        "outputId": "9ac17db5-2d8f-471f-b870-fbf026b2d572"
      },
      "execution_count": 369,
      "outputs": [
        {
          "output_type": "stream",
          "name": "stdout",
          "text": [
            "Mounted at /content/gdrive/\n"
          ]
        }
      ]
    },
    {
      "cell_type": "code",
      "source": [
        "glove_path = '/content/gdrive/MyDrive/Colab Notebooks/Work/glove.6B.100d.txt'\n",
        "glove_model = KeyedVectors.load_word2vec_format(glove_path, binary=False, no_header=True)"
      ],
      "metadata": {
        "id": "NnNm9klO1xs7"
      },
      "execution_count": 370,
      "outputs": []
    },
    {
      "cell_type": "code",
      "source": [
        "X_train = np.array([np.mean([glove_model[w] for w in words if w in glove_model], axis=0) for words in data['text_nltk']])\n",
        "y_train = data[target].values.ravel()\n",
        "\n",
        "X_test = np.array([np.mean([glove_model[w] for w in words if w in glove_model], axis=0) for words in test_data['text_nltk']])"
      ],
      "metadata": {
        "id": "T-PkjIFq1xvi"
      },
      "execution_count": 381,
      "outputs": []
    },
    {
      "cell_type": "code",
      "source": [
        "X_tr, X_vl, y_tr, y_vl = train_test_split(X_train, y_train, test_size=0.2, random_state=0, shuffle=True, stratify=y_train)"
      ],
      "metadata": {
        "id": "JJFGJ4K33Mk7"
      },
      "execution_count": 382,
      "outputs": []
    },
    {
      "cell_type": "code",
      "source": [
        "pipeline = Pipeline([\n",
        "    ('clf', LogisticRegression(random_state=0)),\n",
        "])\n",
        "\n",
        "parameters = {\n",
        "    'clf__C': uniform(0.01, 10),\n",
        "    'clf__class_weight': ['balanced'],\n",
        "    'clf__max_iter': [300]\n",
        "}\n",
        "\n",
        "glove_search = RandomizedSearchCV(pipeline, parameters, cv=3, n_iter=30, verbose=1, scoring='f1', random_state=0)\n",
        "glove_search.fit(X_tr, y_tr)\n",
        "\n",
        "print('Best score: %.3f' % glove_search.best_score_)\n",
        "print('Config: %s' % glove_search.best_params_)"
      ],
      "metadata": {
        "colab": {
          "base_uri": "https://localhost:8080/"
        },
        "id": "vUkHUXuN2SxH",
        "outputId": "414cbaa3-6f3a-484b-9cb1-0dfba4912d73"
      },
      "execution_count": 383,
      "outputs": [
        {
          "output_type": "stream",
          "name": "stdout",
          "text": [
            "Fitting 3 folds for each of 30 candidates, totalling 90 fits\n",
            "Best score: 0.605\n",
            "Config: {'clf__C': 8.927730007820797, 'clf__class_weight': 'balanced', 'clf__max_iter': 300}\n"
          ]
        }
      ]
    },
    {
      "cell_type": "code",
      "source": [
        "print('Train F1 score:', f1_score(y_tr, glove_search.predict(X_tr)))\n",
        "print('Validation F1 score:', f1_score(y_vl, glove_search.predict(X_vl)))"
      ],
      "metadata": {
        "colab": {
          "base_uri": "https://localhost:8080/"
        },
        "id": "2yrO_wfd2SyK",
        "outputId": "fb572f4a-a8da-499e-afdd-87e51c35e287"
      },
      "execution_count": 384,
      "outputs": [
        {
          "output_type": "stream",
          "name": "stdout",
          "text": [
            "Train F1 score: 0.611180567958564\n",
            "Validation F1 score: 0.6044191019244476\n"
          ]
        }
      ]
    },
    {
      "cell_type": "code",
      "source": [],
      "metadata": {
        "id": "vqs-rOl91x2k"
      },
      "execution_count": null,
      "outputs": []
    },
    {
      "cell_type": "markdown",
      "source": [
        "## 4. Submission file preparation"
      ],
      "metadata": {
        "id": "vsHEVU1zwTyh"
      }
    },
    {
      "cell_type": "code",
      "source": [
        "def train_on_full_data(train, drop_cols, target, model):\n",
        "  X_train = train.drop(columns=drop_cols + target)\n",
        "  y_train = train[target].values.ravel()\n",
        "\n",
        "  model.fit(X_train, y_train)\n",
        "\n",
        "  print('Train F1 score:', f1_score(y_train, model.predict(X_train)))"
      ],
      "metadata": {
        "id": "nOfVLmoCXE1j"
      },
      "execution_count": 167,
      "outputs": []
    },
    {
      "cell_type": "code",
      "source": [
        "def make_prediction(model, filename, X_test):\n",
        "  preds = model.predict(X_test)\n",
        "\n",
        "  test_sub = sample_sub.copy()\n",
        "  test_sub['target'] = preds\n",
        "  test_sub.to_csv(filename, index_label='id')"
      ],
      "metadata": {
        "id": "tQtbtc_I9IDY"
      },
      "execution_count": 170,
      "outputs": []
    },
    {
      "cell_type": "code",
      "source": [],
      "metadata": {
        "id": "ZiLfOPdsY72m"
      },
      "execution_count": null,
      "outputs": []
    },
    {
      "cell_type": "code",
      "source": [
        "drop_cols = []\n",
        "target = ['target']\n",
        "test_cols = ['text_spcy']\n",
        "best_logreg = spcy_search.best_estimator_\n",
        "\n",
        "train_on_full_data(data, drop_cols, target, best_logreg)\n",
        "\n",
        "make_prediction(best_logreg, 'submission_spcy_3.csv', test_data[test_cols])"
      ],
      "metadata": {
        "colab": {
          "base_uri": "https://localhost:8080/"
        },
        "id": "7LH7FUb_eGIx",
        "outputId": "146e54ee-a62d-4b37-fa92-a6e6aee9cd4d"
      },
      "execution_count": 72,
      "outputs": [
        {
          "output_type": "stream",
          "name": "stdout",
          "text": [
            "Train F1 score: 0.8378927622322964\n"
          ]
        }
      ]
    },
    {
      "cell_type": "code",
      "source": [
        "drop_cols = ['location', 'text', 'text_spcy']\n",
        "target = ['target']\n",
        "test_cols = ['keyword', 'haslink', 'hastag', 'text_nltk']\n",
        "best_logreg = rand_search.best_estimator_\n",
        "\n",
        "train_on_full_data(data, drop_cols, target, best_logreg)"
      ],
      "metadata": {
        "id": "70Z0WLIJmaX2",
        "colab": {
          "base_uri": "https://localhost:8080/"
        },
        "outputId": "53a2f099-190c-4569-e5af-38a737cfce14"
      },
      "execution_count": null,
      "outputs": [
        {
          "output_type": "stream",
          "name": "stdout",
          "text": [
            "Train F1 score: 0.7653828448672703\n"
          ]
        }
      ]
    },
    {
      "cell_type": "code",
      "source": [
        "make_prediction(best_logreg, 'submission_nltk_svd_2.csv', test_data[test_cols])"
      ],
      "metadata": {
        "id": "jtC79TLMxodq"
      },
      "execution_count": null,
      "outputs": []
    },
    {
      "cell_type": "code",
      "source": [
        "make_prediction(glove_search.best_estimator_, 'submission_gl.csv', X_test)"
      ],
      "metadata": {
        "id": "c-L5zWFhZAqr"
      },
      "execution_count": 378,
      "outputs": []
    },
    {
      "cell_type": "code",
      "source": [],
      "metadata": {
        "id": "9XLOEr3a9jjg"
      },
      "execution_count": null,
      "outputs": []
    }
  ]
}